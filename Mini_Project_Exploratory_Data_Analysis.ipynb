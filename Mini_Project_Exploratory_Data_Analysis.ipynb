{
  "nbformat": 4,
  "nbformat_minor": 0,
  "metadata": {
    "colab": {
      "provenance": [],
      "authorship_tag": "ABX9TyNz+5nTdcSRJQ3cJ5D+L4XP",
      "include_colab_link": true
    },
    "kernelspec": {
      "name": "python3",
      "display_name": "Python 3"
    },
    "language_info": {
      "name": "python"
    }
  },
  "cells": [
    {
      "cell_type": "markdown",
      "metadata": {
        "id": "view-in-github",
        "colab_type": "text"
      },
      "source": [
        "<a href=\"https://colab.research.google.com/github/stephenebert/Springboard/blob/main/Mini_Project_Exploratory_Data_Analysis.ipynb\" target=\"_parent\"><img src=\"https://colab.research.google.com/assets/colab-badge.svg\" alt=\"Open In Colab\"/></a>"
      ]
    },
    {
      "cell_type": "markdown",
      "source": [
        "# [NYC Taxi Data Analysis](https://github.com/springboard-curriculum/mec2-projects/blob/main/Student_MLE_MiniProject_EDA.ipynb)"
      ],
      "metadata": {
        "id": "lfJ0YZlhZpR2"
      }
    },
    {
      "cell_type": "markdown",
      "source": [
        "Import relevant packages\n",
        "\n"
      ],
      "metadata": {
        "id": "nzMBMqgUa1wO"
      }
    },
    {
      "cell_type": "code",
      "source": [
        "import pandas as pd\n",
        "import matplotlib.pyplot as plt\n",
        "import seaborn as sns\n",
        "import numpy as np"
      ],
      "metadata": {
        "id": "w_NieC3pZsfm"
      },
      "execution_count": 181,
      "outputs": []
    },
    {
      "cell_type": "markdown",
      "source": [
        "**Part 1**"
      ],
      "metadata": {
        "id": "Mkn7S4z1E1k5"
      }
    },
    {
      "cell_type": "markdown",
      "source": [
        "**1. Load the yellow_tripdata_2022-01.parquet file into Pandas**"
      ],
      "metadata": {
        "id": "MT4B7k6zapc_"
      }
    },
    {
      "cell_type": "code",
      "source": [
        "df = pd.read_parquet('yellow_tripdata_2022-01.parquet')"
      ],
      "metadata": {
        "id": "Uqf5eA0paQpx"
      },
      "execution_count": 182,
      "outputs": []
    },
    {
      "cell_type": "markdown",
      "source": [
        "**2. Print the first 5 rows of data**"
      ],
      "metadata": {
        "id": "iC8eTtuJe9Hd"
      }
    },
    {
      "cell_type": "code",
      "source": [
        "df.head()"
      ],
      "metadata": {
        "colab": {
          "base_uri": "https://localhost:8080/",
          "height": 226
        },
        "id": "W0pY9EdyfEYD",
        "outputId": "65d548d2-63ad-48a0-b38d-9dcab55157db"
      },
      "execution_count": 183,
      "outputs": [
        {
          "output_type": "execute_result",
          "data": {
            "text/plain": [
              "   VendorID tpep_pickup_datetime tpep_dropoff_datetime  passenger_count  \\\n",
              "0         1  2022-01-01 00:35:40   2022-01-01 00:53:29              2.0   \n",
              "1         1  2022-01-01 00:33:43   2022-01-01 00:42:07              1.0   \n",
              "2         2  2022-01-01 00:53:21   2022-01-01 01:02:19              1.0   \n",
              "3         2  2022-01-01 00:25:21   2022-01-01 00:35:23              1.0   \n",
              "4         2  2022-01-01 00:36:48   2022-01-01 01:14:20              1.0   \n",
              "\n",
              "   trip_distance  RatecodeID store_and_fwd_flag  PULocationID  DOLocationID  \\\n",
              "0           3.80         1.0                  N           142           236   \n",
              "1           2.10         1.0                  N           236            42   \n",
              "2           0.97         1.0                  N           166           166   \n",
              "3           1.09         1.0                  N           114            68   \n",
              "4           4.30         1.0                  N            68           163   \n",
              "\n",
              "   payment_type  fare_amount  extra  mta_tax  tip_amount  tolls_amount  \\\n",
              "0             1         14.5    3.0      0.5        3.65           0.0   \n",
              "1             1          8.0    0.5      0.5        4.00           0.0   \n",
              "2             1          7.5    0.5      0.5        1.76           0.0   \n",
              "3             2          8.0    0.5      0.5        0.00           0.0   \n",
              "4             1         23.5    0.5      0.5        3.00           0.0   \n",
              "\n",
              "   improvement_surcharge  total_amount  congestion_surcharge  airport_fee  \n",
              "0                    0.3         21.95                   2.5          0.0  \n",
              "1                    0.3         13.30                   0.0          0.0  \n",
              "2                    0.3         10.56                   0.0          0.0  \n",
              "3                    0.3         11.80                   2.5          0.0  \n",
              "4                    0.3         30.30                   2.5          0.0  "
            ],
            "text/html": [
              "\n",
              "  <div id=\"df-fb644a80-f89c-492b-abcd-485e1962865f\" class=\"colab-df-container\">\n",
              "    <div>\n",
              "<style scoped>\n",
              "    .dataframe tbody tr th:only-of-type {\n",
              "        vertical-align: middle;\n",
              "    }\n",
              "\n",
              "    .dataframe tbody tr th {\n",
              "        vertical-align: top;\n",
              "    }\n",
              "\n",
              "    .dataframe thead th {\n",
              "        text-align: right;\n",
              "    }\n",
              "</style>\n",
              "<table border=\"1\" class=\"dataframe\">\n",
              "  <thead>\n",
              "    <tr style=\"text-align: right;\">\n",
              "      <th></th>\n",
              "      <th>VendorID</th>\n",
              "      <th>tpep_pickup_datetime</th>\n",
              "      <th>tpep_dropoff_datetime</th>\n",
              "      <th>passenger_count</th>\n",
              "      <th>trip_distance</th>\n",
              "      <th>RatecodeID</th>\n",
              "      <th>store_and_fwd_flag</th>\n",
              "      <th>PULocationID</th>\n",
              "      <th>DOLocationID</th>\n",
              "      <th>payment_type</th>\n",
              "      <th>fare_amount</th>\n",
              "      <th>extra</th>\n",
              "      <th>mta_tax</th>\n",
              "      <th>tip_amount</th>\n",
              "      <th>tolls_amount</th>\n",
              "      <th>improvement_surcharge</th>\n",
              "      <th>total_amount</th>\n",
              "      <th>congestion_surcharge</th>\n",
              "      <th>airport_fee</th>\n",
              "    </tr>\n",
              "  </thead>\n",
              "  <tbody>\n",
              "    <tr>\n",
              "      <th>0</th>\n",
              "      <td>1</td>\n",
              "      <td>2022-01-01 00:35:40</td>\n",
              "      <td>2022-01-01 00:53:29</td>\n",
              "      <td>2.0</td>\n",
              "      <td>3.80</td>\n",
              "      <td>1.0</td>\n",
              "      <td>N</td>\n",
              "      <td>142</td>\n",
              "      <td>236</td>\n",
              "      <td>1</td>\n",
              "      <td>14.5</td>\n",
              "      <td>3.0</td>\n",
              "      <td>0.5</td>\n",
              "      <td>3.65</td>\n",
              "      <td>0.0</td>\n",
              "      <td>0.3</td>\n",
              "      <td>21.95</td>\n",
              "      <td>2.5</td>\n",
              "      <td>0.0</td>\n",
              "    </tr>\n",
              "    <tr>\n",
              "      <th>1</th>\n",
              "      <td>1</td>\n",
              "      <td>2022-01-01 00:33:43</td>\n",
              "      <td>2022-01-01 00:42:07</td>\n",
              "      <td>1.0</td>\n",
              "      <td>2.10</td>\n",
              "      <td>1.0</td>\n",
              "      <td>N</td>\n",
              "      <td>236</td>\n",
              "      <td>42</td>\n",
              "      <td>1</td>\n",
              "      <td>8.0</td>\n",
              "      <td>0.5</td>\n",
              "      <td>0.5</td>\n",
              "      <td>4.00</td>\n",
              "      <td>0.0</td>\n",
              "      <td>0.3</td>\n",
              "      <td>13.30</td>\n",
              "      <td>0.0</td>\n",
              "      <td>0.0</td>\n",
              "    </tr>\n",
              "    <tr>\n",
              "      <th>2</th>\n",
              "      <td>2</td>\n",
              "      <td>2022-01-01 00:53:21</td>\n",
              "      <td>2022-01-01 01:02:19</td>\n",
              "      <td>1.0</td>\n",
              "      <td>0.97</td>\n",
              "      <td>1.0</td>\n",
              "      <td>N</td>\n",
              "      <td>166</td>\n",
              "      <td>166</td>\n",
              "      <td>1</td>\n",
              "      <td>7.5</td>\n",
              "      <td>0.5</td>\n",
              "      <td>0.5</td>\n",
              "      <td>1.76</td>\n",
              "      <td>0.0</td>\n",
              "      <td>0.3</td>\n",
              "      <td>10.56</td>\n",
              "      <td>0.0</td>\n",
              "      <td>0.0</td>\n",
              "    </tr>\n",
              "    <tr>\n",
              "      <th>3</th>\n",
              "      <td>2</td>\n",
              "      <td>2022-01-01 00:25:21</td>\n",
              "      <td>2022-01-01 00:35:23</td>\n",
              "      <td>1.0</td>\n",
              "      <td>1.09</td>\n",
              "      <td>1.0</td>\n",
              "      <td>N</td>\n",
              "      <td>114</td>\n",
              "      <td>68</td>\n",
              "      <td>2</td>\n",
              "      <td>8.0</td>\n",
              "      <td>0.5</td>\n",
              "      <td>0.5</td>\n",
              "      <td>0.00</td>\n",
              "      <td>0.0</td>\n",
              "      <td>0.3</td>\n",
              "      <td>11.80</td>\n",
              "      <td>2.5</td>\n",
              "      <td>0.0</td>\n",
              "    </tr>\n",
              "    <tr>\n",
              "      <th>4</th>\n",
              "      <td>2</td>\n",
              "      <td>2022-01-01 00:36:48</td>\n",
              "      <td>2022-01-01 01:14:20</td>\n",
              "      <td>1.0</td>\n",
              "      <td>4.30</td>\n",
              "      <td>1.0</td>\n",
              "      <td>N</td>\n",
              "      <td>68</td>\n",
              "      <td>163</td>\n",
              "      <td>1</td>\n",
              "      <td>23.5</td>\n",
              "      <td>0.5</td>\n",
              "      <td>0.5</td>\n",
              "      <td>3.00</td>\n",
              "      <td>0.0</td>\n",
              "      <td>0.3</td>\n",
              "      <td>30.30</td>\n",
              "      <td>2.5</td>\n",
              "      <td>0.0</td>\n",
              "    </tr>\n",
              "  </tbody>\n",
              "</table>\n",
              "</div>\n",
              "    <div class=\"colab-df-buttons\">\n",
              "\n",
              "  <div class=\"colab-df-container\">\n",
              "    <button class=\"colab-df-convert\" onclick=\"convertToInteractive('df-fb644a80-f89c-492b-abcd-485e1962865f')\"\n",
              "            title=\"Convert this dataframe to an interactive table.\"\n",
              "            style=\"display:none;\">\n",
              "\n",
              "  <svg xmlns=\"http://www.w3.org/2000/svg\" height=\"24px\" viewBox=\"0 -960 960 960\">\n",
              "    <path d=\"M120-120v-720h720v720H120Zm60-500h600v-160H180v160Zm220 220h160v-160H400v160Zm0 220h160v-160H400v160ZM180-400h160v-160H180v160Zm440 0h160v-160H620v160ZM180-180h160v-160H180v160Zm440 0h160v-160H620v160Z\"/>\n",
              "  </svg>\n",
              "    </button>\n",
              "\n",
              "  <style>\n",
              "    .colab-df-container {\n",
              "      display:flex;\n",
              "      gap: 12px;\n",
              "    }\n",
              "\n",
              "    .colab-df-convert {\n",
              "      background-color: #E8F0FE;\n",
              "      border: none;\n",
              "      border-radius: 50%;\n",
              "      cursor: pointer;\n",
              "      display: none;\n",
              "      fill: #1967D2;\n",
              "      height: 32px;\n",
              "      padding: 0 0 0 0;\n",
              "      width: 32px;\n",
              "    }\n",
              "\n",
              "    .colab-df-convert:hover {\n",
              "      background-color: #E2EBFA;\n",
              "      box-shadow: 0px 1px 2px rgba(60, 64, 67, 0.3), 0px 1px 3px 1px rgba(60, 64, 67, 0.15);\n",
              "      fill: #174EA6;\n",
              "    }\n",
              "\n",
              "    .colab-df-buttons div {\n",
              "      margin-bottom: 4px;\n",
              "    }\n",
              "\n",
              "    [theme=dark] .colab-df-convert {\n",
              "      background-color: #3B4455;\n",
              "      fill: #D2E3FC;\n",
              "    }\n",
              "\n",
              "    [theme=dark] .colab-df-convert:hover {\n",
              "      background-color: #434B5C;\n",
              "      box-shadow: 0px 1px 3px 1px rgba(0, 0, 0, 0.15);\n",
              "      filter: drop-shadow(0px 1px 2px rgba(0, 0, 0, 0.3));\n",
              "      fill: #FFFFFF;\n",
              "    }\n",
              "  </style>\n",
              "\n",
              "    <script>\n",
              "      const buttonEl =\n",
              "        document.querySelector('#df-fb644a80-f89c-492b-abcd-485e1962865f button.colab-df-convert');\n",
              "      buttonEl.style.display =\n",
              "        google.colab.kernel.accessAllowed ? 'block' : 'none';\n",
              "\n",
              "      async function convertToInteractive(key) {\n",
              "        const element = document.querySelector('#df-fb644a80-f89c-492b-abcd-485e1962865f');\n",
              "        const dataTable =\n",
              "          await google.colab.kernel.invokeFunction('convertToInteractive',\n",
              "                                                    [key], {});\n",
              "        if (!dataTable) return;\n",
              "\n",
              "        const docLinkHtml = 'Like what you see? Visit the ' +\n",
              "          '<a target=\"_blank\" href=https://colab.research.google.com/notebooks/data_table.ipynb>data table notebook</a>'\n",
              "          + ' to learn more about interactive tables.';\n",
              "        element.innerHTML = '';\n",
              "        dataTable['output_type'] = 'display_data';\n",
              "        await google.colab.output.renderOutput(dataTable, element);\n",
              "        const docLink = document.createElement('div');\n",
              "        docLink.innerHTML = docLinkHtml;\n",
              "        element.appendChild(docLink);\n",
              "      }\n",
              "    </script>\n",
              "  </div>\n",
              "\n",
              "\n",
              "    <div id=\"df-b56c1e06-7114-44da-a1a2-a1abe17e569e\">\n",
              "      <button class=\"colab-df-quickchart\" onclick=\"quickchart('df-b56c1e06-7114-44da-a1a2-a1abe17e569e')\"\n",
              "                title=\"Suggest charts\"\n",
              "                style=\"display:none;\">\n",
              "\n",
              "<svg xmlns=\"http://www.w3.org/2000/svg\" height=\"24px\"viewBox=\"0 0 24 24\"\n",
              "     width=\"24px\">\n",
              "    <g>\n",
              "        <path d=\"M19 3H5c-1.1 0-2 .9-2 2v14c0 1.1.9 2 2 2h14c1.1 0 2-.9 2-2V5c0-1.1-.9-2-2-2zM9 17H7v-7h2v7zm4 0h-2V7h2v10zm4 0h-2v-4h2v4z\"/>\n",
              "    </g>\n",
              "</svg>\n",
              "      </button>\n",
              "\n",
              "<style>\n",
              "  .colab-df-quickchart {\n",
              "      --bg-color: #E8F0FE;\n",
              "      --fill-color: #1967D2;\n",
              "      --hover-bg-color: #E2EBFA;\n",
              "      --hover-fill-color: #174EA6;\n",
              "      --disabled-fill-color: #AAA;\n",
              "      --disabled-bg-color: #DDD;\n",
              "  }\n",
              "\n",
              "  [theme=dark] .colab-df-quickchart {\n",
              "      --bg-color: #3B4455;\n",
              "      --fill-color: #D2E3FC;\n",
              "      --hover-bg-color: #434B5C;\n",
              "      --hover-fill-color: #FFFFFF;\n",
              "      --disabled-bg-color: #3B4455;\n",
              "      --disabled-fill-color: #666;\n",
              "  }\n",
              "\n",
              "  .colab-df-quickchart {\n",
              "    background-color: var(--bg-color);\n",
              "    border: none;\n",
              "    border-radius: 50%;\n",
              "    cursor: pointer;\n",
              "    display: none;\n",
              "    fill: var(--fill-color);\n",
              "    height: 32px;\n",
              "    padding: 0;\n",
              "    width: 32px;\n",
              "  }\n",
              "\n",
              "  .colab-df-quickchart:hover {\n",
              "    background-color: var(--hover-bg-color);\n",
              "    box-shadow: 0 1px 2px rgba(60, 64, 67, 0.3), 0 1px 3px 1px rgba(60, 64, 67, 0.15);\n",
              "    fill: var(--button-hover-fill-color);\n",
              "  }\n",
              "\n",
              "  .colab-df-quickchart-complete:disabled,\n",
              "  .colab-df-quickchart-complete:disabled:hover {\n",
              "    background-color: var(--disabled-bg-color);\n",
              "    fill: var(--disabled-fill-color);\n",
              "    box-shadow: none;\n",
              "  }\n",
              "\n",
              "  .colab-df-spinner {\n",
              "    border: 2px solid var(--fill-color);\n",
              "    border-color: transparent;\n",
              "    border-bottom-color: var(--fill-color);\n",
              "    animation:\n",
              "      spin 1s steps(1) infinite;\n",
              "  }\n",
              "\n",
              "  @keyframes spin {\n",
              "    0% {\n",
              "      border-color: transparent;\n",
              "      border-bottom-color: var(--fill-color);\n",
              "      border-left-color: var(--fill-color);\n",
              "    }\n",
              "    20% {\n",
              "      border-color: transparent;\n",
              "      border-left-color: var(--fill-color);\n",
              "      border-top-color: var(--fill-color);\n",
              "    }\n",
              "    30% {\n",
              "      border-color: transparent;\n",
              "      border-left-color: var(--fill-color);\n",
              "      border-top-color: var(--fill-color);\n",
              "      border-right-color: var(--fill-color);\n",
              "    }\n",
              "    40% {\n",
              "      border-color: transparent;\n",
              "      border-right-color: var(--fill-color);\n",
              "      border-top-color: var(--fill-color);\n",
              "    }\n",
              "    60% {\n",
              "      border-color: transparent;\n",
              "      border-right-color: var(--fill-color);\n",
              "    }\n",
              "    80% {\n",
              "      border-color: transparent;\n",
              "      border-right-color: var(--fill-color);\n",
              "      border-bottom-color: var(--fill-color);\n",
              "    }\n",
              "    90% {\n",
              "      border-color: transparent;\n",
              "      border-bottom-color: var(--fill-color);\n",
              "    }\n",
              "  }\n",
              "</style>\n",
              "\n",
              "      <script>\n",
              "        async function quickchart(key) {\n",
              "          const quickchartButtonEl =\n",
              "            document.querySelector('#' + key + ' button');\n",
              "          quickchartButtonEl.disabled = true;  // To prevent multiple clicks.\n",
              "          quickchartButtonEl.classList.add('colab-df-spinner');\n",
              "          try {\n",
              "            const charts = await google.colab.kernel.invokeFunction(\n",
              "                'suggestCharts', [key], {});\n",
              "          } catch (error) {\n",
              "            console.error('Error during call to suggestCharts:', error);\n",
              "          }\n",
              "          quickchartButtonEl.classList.remove('colab-df-spinner');\n",
              "          quickchartButtonEl.classList.add('colab-df-quickchart-complete');\n",
              "        }\n",
              "        (() => {\n",
              "          let quickchartButtonEl =\n",
              "            document.querySelector('#df-b56c1e06-7114-44da-a1a2-a1abe17e569e button');\n",
              "          quickchartButtonEl.style.display =\n",
              "            google.colab.kernel.accessAllowed ? 'block' : 'none';\n",
              "        })();\n",
              "      </script>\n",
              "    </div>\n",
              "\n",
              "    </div>\n",
              "  </div>\n"
            ],
            "application/vnd.google.colaboratory.intrinsic+json": {
              "type": "dataframe",
              "variable_name": "df"
            }
          },
          "metadata": {},
          "execution_count": 183
        }
      ]
    },
    {
      "cell_type": "markdown",
      "source": [
        "**3. How many rows are in the dataset? How many unique columns are in the dataset?**"
      ],
      "metadata": {
        "id": "Wpt8nS6LhjpZ"
      }
    },
    {
      "cell_type": "code",
      "source": [
        "df.shape"
      ],
      "metadata": {
        "colab": {
          "base_uri": "https://localhost:8080/"
        },
        "id": "F5nPzwmPhwTW",
        "outputId": "8507d757-ef24-4062-9470-20b026f1c28c"
      },
      "execution_count": 184,
      "outputs": [
        {
          "output_type": "execute_result",
          "data": {
            "text/plain": [
              "(2463931, 19)"
            ]
          },
          "metadata": {},
          "execution_count": 184
        }
      ]
    },
    {
      "cell_type": "markdown",
      "source": [
        "There are **2463931 rows** and **19 columns**. Here we used the .shape to get this attribute (rows, columns), but there could be duplicates\n",
        "\n",
        "We see it doesn't matter for this example, but, to be extra safe, we will use the .unique() method to arrive at the same answer"
      ],
      "metadata": {
        "id": "k6qyJynPiMQa"
      }
    },
    {
      "cell_type": "code",
      "source": [
        "len(df.columns.unique()) #First we extract the columns, use the .unique() method to filter duplicates, then print the number of unique columns"
      ],
      "metadata": {
        "colab": {
          "base_uri": "https://localhost:8080/"
        },
        "id": "4NahOsPIho-X",
        "outputId": "cc82acae-fb90-459e-a514-2a1cb9672155"
      },
      "execution_count": 185,
      "outputs": [
        {
          "output_type": "execute_result",
          "data": {
            "text/plain": [
              "19"
            ]
          },
          "metadata": {},
          "execution_count": 185
        }
      ]
    },
    {
      "cell_type": "code",
      "source": [
        "len(df) #rows"
      ],
      "metadata": {
        "colab": {
          "base_uri": "https://localhost:8080/"
        },
        "id": "hLgESIkviDOe",
        "outputId": "4721a1ff-c921-404c-d220-ee506d0b5757"
      },
      "execution_count": 186,
      "outputs": [
        {
          "output_type": "execute_result",
          "data": {
            "text/plain": [
              "2463931"
            ]
          },
          "metadata": {},
          "execution_count": 186
        }
      ]
    },
    {
      "cell_type": "markdown",
      "source": [
        "**4. Which columns have NULL values and how many NULL values are present in each of these columns?**"
      ],
      "metadata": {
        "id": "xGlpRVmJkYK-"
      }
    },
    {
      "cell_type": "code",
      "source": [
        "df.isnull().sum()"
      ],
      "metadata": {
        "colab": {
          "base_uri": "https://localhost:8080/",
          "height": 680
        },
        "id": "jG4Ob0V7mOhI",
        "outputId": "5b8ae704-475e-4a29-8a6e-927601f7a819"
      },
      "execution_count": 187,
      "outputs": [
        {
          "output_type": "execute_result",
          "data": {
            "text/plain": [
              "VendorID                     0\n",
              "tpep_pickup_datetime         0\n",
              "tpep_dropoff_datetime        0\n",
              "passenger_count          71503\n",
              "trip_distance                0\n",
              "RatecodeID               71503\n",
              "store_and_fwd_flag       71503\n",
              "PULocationID                 0\n",
              "DOLocationID                 0\n",
              "payment_type                 0\n",
              "fare_amount                  0\n",
              "extra                        0\n",
              "mta_tax                      0\n",
              "tip_amount                   0\n",
              "tolls_amount                 0\n",
              "improvement_surcharge        0\n",
              "total_amount                 0\n",
              "congestion_surcharge     71503\n",
              "airport_fee              71503\n",
              "dtype: int64"
            ],
            "text/html": [
              "<div>\n",
              "<style scoped>\n",
              "    .dataframe tbody tr th:only-of-type {\n",
              "        vertical-align: middle;\n",
              "    }\n",
              "\n",
              "    .dataframe tbody tr th {\n",
              "        vertical-align: top;\n",
              "    }\n",
              "\n",
              "    .dataframe thead th {\n",
              "        text-align: right;\n",
              "    }\n",
              "</style>\n",
              "<table border=\"1\" class=\"dataframe\">\n",
              "  <thead>\n",
              "    <tr style=\"text-align: right;\">\n",
              "      <th></th>\n",
              "      <th>0</th>\n",
              "    </tr>\n",
              "  </thead>\n",
              "  <tbody>\n",
              "    <tr>\n",
              "      <th>VendorID</th>\n",
              "      <td>0</td>\n",
              "    </tr>\n",
              "    <tr>\n",
              "      <th>tpep_pickup_datetime</th>\n",
              "      <td>0</td>\n",
              "    </tr>\n",
              "    <tr>\n",
              "      <th>tpep_dropoff_datetime</th>\n",
              "      <td>0</td>\n",
              "    </tr>\n",
              "    <tr>\n",
              "      <th>passenger_count</th>\n",
              "      <td>71503</td>\n",
              "    </tr>\n",
              "    <tr>\n",
              "      <th>trip_distance</th>\n",
              "      <td>0</td>\n",
              "    </tr>\n",
              "    <tr>\n",
              "      <th>RatecodeID</th>\n",
              "      <td>71503</td>\n",
              "    </tr>\n",
              "    <tr>\n",
              "      <th>store_and_fwd_flag</th>\n",
              "      <td>71503</td>\n",
              "    </tr>\n",
              "    <tr>\n",
              "      <th>PULocationID</th>\n",
              "      <td>0</td>\n",
              "    </tr>\n",
              "    <tr>\n",
              "      <th>DOLocationID</th>\n",
              "      <td>0</td>\n",
              "    </tr>\n",
              "    <tr>\n",
              "      <th>payment_type</th>\n",
              "      <td>0</td>\n",
              "    </tr>\n",
              "    <tr>\n",
              "      <th>fare_amount</th>\n",
              "      <td>0</td>\n",
              "    </tr>\n",
              "    <tr>\n",
              "      <th>extra</th>\n",
              "      <td>0</td>\n",
              "    </tr>\n",
              "    <tr>\n",
              "      <th>mta_tax</th>\n",
              "      <td>0</td>\n",
              "    </tr>\n",
              "    <tr>\n",
              "      <th>tip_amount</th>\n",
              "      <td>0</td>\n",
              "    </tr>\n",
              "    <tr>\n",
              "      <th>tolls_amount</th>\n",
              "      <td>0</td>\n",
              "    </tr>\n",
              "    <tr>\n",
              "      <th>improvement_surcharge</th>\n",
              "      <td>0</td>\n",
              "    </tr>\n",
              "    <tr>\n",
              "      <th>total_amount</th>\n",
              "      <td>0</td>\n",
              "    </tr>\n",
              "    <tr>\n",
              "      <th>congestion_surcharge</th>\n",
              "      <td>71503</td>\n",
              "    </tr>\n",
              "    <tr>\n",
              "      <th>airport_fee</th>\n",
              "      <td>71503</td>\n",
              "    </tr>\n",
              "  </tbody>\n",
              "</table>\n",
              "</div><br><label><b>dtype:</b> int64</label>"
            ]
          },
          "metadata": {},
          "execution_count": 187
        }
      ]
    },
    {
      "cell_type": "markdown",
      "source": [
        "There are five columns that have null values are \"**passenger_count**\", \"**RatecodeID**\", \"**store_and_fwd_flag**\", \"**congestion_surcharge**\", and \"**airport_fee**\". There are **71503** null values present for each of these five columns.\n",
        "\n",
        "The other fourteen columns have no null values as you can see"
      ],
      "metadata": {
        "id": "meD9yq9OlVGM"
      }
    },
    {
      "cell_type": "markdown",
      "source": [
        "**5. Generate summary statistics using Pandas' describe method. Do you notice anything unusual in the dataset? Find at least one anomoly and try to come up with a hypothesis to explain it.**"
      ],
      "metadata": {
        "id": "VNPTwz8so5PB"
      }
    },
    {
      "cell_type": "code",
      "source": [
        "df.describe()"
      ],
      "metadata": {
        "colab": {
          "base_uri": "https://localhost:8080/",
          "height": 390
        },
        "id": "KNxQSICUo93l",
        "outputId": "bdd30ac2-b805-41ce-8302-c1f45df39dfc"
      },
      "execution_count": 188,
      "outputs": [
        {
          "output_type": "execute_result",
          "data": {
            "text/plain": [
              "           VendorID        tpep_pickup_datetime       tpep_dropoff_datetime  \\\n",
              "count  2.463931e+06                     2463931                     2463931   \n",
              "mean   1.707819e+00  2022-01-17 01:19:51.689724  2022-01-17 01:34:04.421902   \n",
              "min    1.000000e+00         2008-12-31 22:23:09         2008-12-31 23:06:56   \n",
              "25%    1.000000e+00         2022-01-09 15:37:41  2022-01-09 15:50:50.500000   \n",
              "50%    2.000000e+00         2022-01-17 12:11:45         2022-01-17 12:23:49   \n",
              "75%    2.000000e+00  2022-01-24 13:49:37.500000         2022-01-24 14:02:51   \n",
              "max    6.000000e+00         2022-05-18 20:41:57         2022-05-18 20:47:45   \n",
              "std    5.021375e-01                         NaN                         NaN   \n",
              "\n",
              "       passenger_count  trip_distance    RatecodeID  PULocationID  \\\n",
              "count     2.392428e+06   2.463931e+06  2.392428e+06  2.463931e+06   \n",
              "mean      1.389453e+00   5.372751e+00  1.415507e+00  1.660768e+02   \n",
              "min       0.000000e+00   0.000000e+00  1.000000e+00  1.000000e+00   \n",
              "25%       1.000000e+00   1.040000e+00  1.000000e+00  1.320000e+02   \n",
              "50%       1.000000e+00   1.740000e+00  1.000000e+00  1.620000e+02   \n",
              "75%       1.000000e+00   3.130000e+00  1.000000e+00  2.340000e+02   \n",
              "max       9.000000e+00   3.061593e+05  9.900000e+01  2.650000e+02   \n",
              "std       9.829686e-01   5.478714e+02  5.917573e+00  6.546806e+01   \n",
              "\n",
              "       DOLocationID  payment_type   fare_amount         extra       mta_tax  \\\n",
              "count  2.463931e+06  2.463931e+06  2.463931e+06  2.463931e+06  2.463931e+06   \n",
              "mean   1.635807e+02  1.194449e+00  1.294648e+01  1.006710e+00  4.914539e-01   \n",
              "min    1.000000e+00  0.000000e+00 -4.800000e+02 -4.500000e+00 -5.000000e-01   \n",
              "25%    1.130000e+02  1.000000e+00  6.500000e+00  0.000000e+00  5.000000e-01   \n",
              "50%    1.620000e+02  1.000000e+00  9.000000e+00  5.000000e-01  5.000000e-01   \n",
              "75%    2.360000e+02  1.000000e+00  1.400000e+01  2.500000e+00  5.000000e-01   \n",
              "max    2.650000e+02  5.000000e+00  4.010923e+05  3.350000e+01  1.659000e+01   \n",
              "std    7.079016e+01  5.001778e-01  2.558149e+02  1.236226e+00  8.291560e-02   \n",
              "\n",
              "         tip_amount  tolls_amount  improvement_surcharge  total_amount  \\\n",
              "count  2.463931e+06  2.463931e+06           2.463931e+06  2.463931e+06   \n",
              "mean   2.385696e+00  3.749773e-01           2.967234e-01  1.916937e+01   \n",
              "min   -1.252200e+02 -3.140000e+01          -3.000000e-01 -4.803000e+02   \n",
              "25%    7.200000e-01  0.000000e+00           3.000000e-01  1.130000e+01   \n",
              "50%    2.000000e+00  0.000000e+00           3.000000e-01  1.469000e+01   \n",
              "75%    3.000000e+00  0.000000e+00           3.000000e-01  2.002000e+01   \n",
              "max    8.888800e+02  1.933000e+02           3.000000e-01  4.010956e+05   \n",
              "std    2.830698e+00  1.680538e+00           4.374741e-02  2.559641e+02   \n",
              "\n",
              "       congestion_surcharge   airport_fee  \n",
              "count          2.392428e+06  2.392428e+06  \n",
              "mean           2.282322e+00  8.249935e-02  \n",
              "min           -2.500000e+00 -1.250000e+00  \n",
              "25%            2.500000e+00  0.000000e+00  \n",
              "50%            2.500000e+00  0.000000e+00  \n",
              "75%            2.500000e+00  0.000000e+00  \n",
              "max            2.500000e+00  1.250000e+00  \n",
              "std            7.432040e-01  3.125554e-01  "
            ],
            "text/html": [
              "\n",
              "  <div id=\"df-9bad72a6-f556-4d1a-b9f5-4887e80f1f19\" class=\"colab-df-container\">\n",
              "    <div>\n",
              "<style scoped>\n",
              "    .dataframe tbody tr th:only-of-type {\n",
              "        vertical-align: middle;\n",
              "    }\n",
              "\n",
              "    .dataframe tbody tr th {\n",
              "        vertical-align: top;\n",
              "    }\n",
              "\n",
              "    .dataframe thead th {\n",
              "        text-align: right;\n",
              "    }\n",
              "</style>\n",
              "<table border=\"1\" class=\"dataframe\">\n",
              "  <thead>\n",
              "    <tr style=\"text-align: right;\">\n",
              "      <th></th>\n",
              "      <th>VendorID</th>\n",
              "      <th>tpep_pickup_datetime</th>\n",
              "      <th>tpep_dropoff_datetime</th>\n",
              "      <th>passenger_count</th>\n",
              "      <th>trip_distance</th>\n",
              "      <th>RatecodeID</th>\n",
              "      <th>PULocationID</th>\n",
              "      <th>DOLocationID</th>\n",
              "      <th>payment_type</th>\n",
              "      <th>fare_amount</th>\n",
              "      <th>extra</th>\n",
              "      <th>mta_tax</th>\n",
              "      <th>tip_amount</th>\n",
              "      <th>tolls_amount</th>\n",
              "      <th>improvement_surcharge</th>\n",
              "      <th>total_amount</th>\n",
              "      <th>congestion_surcharge</th>\n",
              "      <th>airport_fee</th>\n",
              "    </tr>\n",
              "  </thead>\n",
              "  <tbody>\n",
              "    <tr>\n",
              "      <th>count</th>\n",
              "      <td>2.463931e+06</td>\n",
              "      <td>2463931</td>\n",
              "      <td>2463931</td>\n",
              "      <td>2.392428e+06</td>\n",
              "      <td>2.463931e+06</td>\n",
              "      <td>2.392428e+06</td>\n",
              "      <td>2.463931e+06</td>\n",
              "      <td>2.463931e+06</td>\n",
              "      <td>2.463931e+06</td>\n",
              "      <td>2.463931e+06</td>\n",
              "      <td>2.463931e+06</td>\n",
              "      <td>2.463931e+06</td>\n",
              "      <td>2.463931e+06</td>\n",
              "      <td>2.463931e+06</td>\n",
              "      <td>2.463931e+06</td>\n",
              "      <td>2.463931e+06</td>\n",
              "      <td>2.392428e+06</td>\n",
              "      <td>2.392428e+06</td>\n",
              "    </tr>\n",
              "    <tr>\n",
              "      <th>mean</th>\n",
              "      <td>1.707819e+00</td>\n",
              "      <td>2022-01-17 01:19:51.689724</td>\n",
              "      <td>2022-01-17 01:34:04.421902</td>\n",
              "      <td>1.389453e+00</td>\n",
              "      <td>5.372751e+00</td>\n",
              "      <td>1.415507e+00</td>\n",
              "      <td>1.660768e+02</td>\n",
              "      <td>1.635807e+02</td>\n",
              "      <td>1.194449e+00</td>\n",
              "      <td>1.294648e+01</td>\n",
              "      <td>1.006710e+00</td>\n",
              "      <td>4.914539e-01</td>\n",
              "      <td>2.385696e+00</td>\n",
              "      <td>3.749773e-01</td>\n",
              "      <td>2.967234e-01</td>\n",
              "      <td>1.916937e+01</td>\n",
              "      <td>2.282322e+00</td>\n",
              "      <td>8.249935e-02</td>\n",
              "    </tr>\n",
              "    <tr>\n",
              "      <th>min</th>\n",
              "      <td>1.000000e+00</td>\n",
              "      <td>2008-12-31 22:23:09</td>\n",
              "      <td>2008-12-31 23:06:56</td>\n",
              "      <td>0.000000e+00</td>\n",
              "      <td>0.000000e+00</td>\n",
              "      <td>1.000000e+00</td>\n",
              "      <td>1.000000e+00</td>\n",
              "      <td>1.000000e+00</td>\n",
              "      <td>0.000000e+00</td>\n",
              "      <td>-4.800000e+02</td>\n",
              "      <td>-4.500000e+00</td>\n",
              "      <td>-5.000000e-01</td>\n",
              "      <td>-1.252200e+02</td>\n",
              "      <td>-3.140000e+01</td>\n",
              "      <td>-3.000000e-01</td>\n",
              "      <td>-4.803000e+02</td>\n",
              "      <td>-2.500000e+00</td>\n",
              "      <td>-1.250000e+00</td>\n",
              "    </tr>\n",
              "    <tr>\n",
              "      <th>25%</th>\n",
              "      <td>1.000000e+00</td>\n",
              "      <td>2022-01-09 15:37:41</td>\n",
              "      <td>2022-01-09 15:50:50.500000</td>\n",
              "      <td>1.000000e+00</td>\n",
              "      <td>1.040000e+00</td>\n",
              "      <td>1.000000e+00</td>\n",
              "      <td>1.320000e+02</td>\n",
              "      <td>1.130000e+02</td>\n",
              "      <td>1.000000e+00</td>\n",
              "      <td>6.500000e+00</td>\n",
              "      <td>0.000000e+00</td>\n",
              "      <td>5.000000e-01</td>\n",
              "      <td>7.200000e-01</td>\n",
              "      <td>0.000000e+00</td>\n",
              "      <td>3.000000e-01</td>\n",
              "      <td>1.130000e+01</td>\n",
              "      <td>2.500000e+00</td>\n",
              "      <td>0.000000e+00</td>\n",
              "    </tr>\n",
              "    <tr>\n",
              "      <th>50%</th>\n",
              "      <td>2.000000e+00</td>\n",
              "      <td>2022-01-17 12:11:45</td>\n",
              "      <td>2022-01-17 12:23:49</td>\n",
              "      <td>1.000000e+00</td>\n",
              "      <td>1.740000e+00</td>\n",
              "      <td>1.000000e+00</td>\n",
              "      <td>1.620000e+02</td>\n",
              "      <td>1.620000e+02</td>\n",
              "      <td>1.000000e+00</td>\n",
              "      <td>9.000000e+00</td>\n",
              "      <td>5.000000e-01</td>\n",
              "      <td>5.000000e-01</td>\n",
              "      <td>2.000000e+00</td>\n",
              "      <td>0.000000e+00</td>\n",
              "      <td>3.000000e-01</td>\n",
              "      <td>1.469000e+01</td>\n",
              "      <td>2.500000e+00</td>\n",
              "      <td>0.000000e+00</td>\n",
              "    </tr>\n",
              "    <tr>\n",
              "      <th>75%</th>\n",
              "      <td>2.000000e+00</td>\n",
              "      <td>2022-01-24 13:49:37.500000</td>\n",
              "      <td>2022-01-24 14:02:51</td>\n",
              "      <td>1.000000e+00</td>\n",
              "      <td>3.130000e+00</td>\n",
              "      <td>1.000000e+00</td>\n",
              "      <td>2.340000e+02</td>\n",
              "      <td>2.360000e+02</td>\n",
              "      <td>1.000000e+00</td>\n",
              "      <td>1.400000e+01</td>\n",
              "      <td>2.500000e+00</td>\n",
              "      <td>5.000000e-01</td>\n",
              "      <td>3.000000e+00</td>\n",
              "      <td>0.000000e+00</td>\n",
              "      <td>3.000000e-01</td>\n",
              "      <td>2.002000e+01</td>\n",
              "      <td>2.500000e+00</td>\n",
              "      <td>0.000000e+00</td>\n",
              "    </tr>\n",
              "    <tr>\n",
              "      <th>max</th>\n",
              "      <td>6.000000e+00</td>\n",
              "      <td>2022-05-18 20:41:57</td>\n",
              "      <td>2022-05-18 20:47:45</td>\n",
              "      <td>9.000000e+00</td>\n",
              "      <td>3.061593e+05</td>\n",
              "      <td>9.900000e+01</td>\n",
              "      <td>2.650000e+02</td>\n",
              "      <td>2.650000e+02</td>\n",
              "      <td>5.000000e+00</td>\n",
              "      <td>4.010923e+05</td>\n",
              "      <td>3.350000e+01</td>\n",
              "      <td>1.659000e+01</td>\n",
              "      <td>8.888800e+02</td>\n",
              "      <td>1.933000e+02</td>\n",
              "      <td>3.000000e-01</td>\n",
              "      <td>4.010956e+05</td>\n",
              "      <td>2.500000e+00</td>\n",
              "      <td>1.250000e+00</td>\n",
              "    </tr>\n",
              "    <tr>\n",
              "      <th>std</th>\n",
              "      <td>5.021375e-01</td>\n",
              "      <td>NaN</td>\n",
              "      <td>NaN</td>\n",
              "      <td>9.829686e-01</td>\n",
              "      <td>5.478714e+02</td>\n",
              "      <td>5.917573e+00</td>\n",
              "      <td>6.546806e+01</td>\n",
              "      <td>7.079016e+01</td>\n",
              "      <td>5.001778e-01</td>\n",
              "      <td>2.558149e+02</td>\n",
              "      <td>1.236226e+00</td>\n",
              "      <td>8.291560e-02</td>\n",
              "      <td>2.830698e+00</td>\n",
              "      <td>1.680538e+00</td>\n",
              "      <td>4.374741e-02</td>\n",
              "      <td>2.559641e+02</td>\n",
              "      <td>7.432040e-01</td>\n",
              "      <td>3.125554e-01</td>\n",
              "    </tr>\n",
              "  </tbody>\n",
              "</table>\n",
              "</div>\n",
              "    <div class=\"colab-df-buttons\">\n",
              "\n",
              "  <div class=\"colab-df-container\">\n",
              "    <button class=\"colab-df-convert\" onclick=\"convertToInteractive('df-9bad72a6-f556-4d1a-b9f5-4887e80f1f19')\"\n",
              "            title=\"Convert this dataframe to an interactive table.\"\n",
              "            style=\"display:none;\">\n",
              "\n",
              "  <svg xmlns=\"http://www.w3.org/2000/svg\" height=\"24px\" viewBox=\"0 -960 960 960\">\n",
              "    <path d=\"M120-120v-720h720v720H120Zm60-500h600v-160H180v160Zm220 220h160v-160H400v160Zm0 220h160v-160H400v160ZM180-400h160v-160H180v160Zm440 0h160v-160H620v160ZM180-180h160v-160H180v160Zm440 0h160v-160H620v160Z\"/>\n",
              "  </svg>\n",
              "    </button>\n",
              "\n",
              "  <style>\n",
              "    .colab-df-container {\n",
              "      display:flex;\n",
              "      gap: 12px;\n",
              "    }\n",
              "\n",
              "    .colab-df-convert {\n",
              "      background-color: #E8F0FE;\n",
              "      border: none;\n",
              "      border-radius: 50%;\n",
              "      cursor: pointer;\n",
              "      display: none;\n",
              "      fill: #1967D2;\n",
              "      height: 32px;\n",
              "      padding: 0 0 0 0;\n",
              "      width: 32px;\n",
              "    }\n",
              "\n",
              "    .colab-df-convert:hover {\n",
              "      background-color: #E2EBFA;\n",
              "      box-shadow: 0px 1px 2px rgba(60, 64, 67, 0.3), 0px 1px 3px 1px rgba(60, 64, 67, 0.15);\n",
              "      fill: #174EA6;\n",
              "    }\n",
              "\n",
              "    .colab-df-buttons div {\n",
              "      margin-bottom: 4px;\n",
              "    }\n",
              "\n",
              "    [theme=dark] .colab-df-convert {\n",
              "      background-color: #3B4455;\n",
              "      fill: #D2E3FC;\n",
              "    }\n",
              "\n",
              "    [theme=dark] .colab-df-convert:hover {\n",
              "      background-color: #434B5C;\n",
              "      box-shadow: 0px 1px 3px 1px rgba(0, 0, 0, 0.15);\n",
              "      filter: drop-shadow(0px 1px 2px rgba(0, 0, 0, 0.3));\n",
              "      fill: #FFFFFF;\n",
              "    }\n",
              "  </style>\n",
              "\n",
              "    <script>\n",
              "      const buttonEl =\n",
              "        document.querySelector('#df-9bad72a6-f556-4d1a-b9f5-4887e80f1f19 button.colab-df-convert');\n",
              "      buttonEl.style.display =\n",
              "        google.colab.kernel.accessAllowed ? 'block' : 'none';\n",
              "\n",
              "      async function convertToInteractive(key) {\n",
              "        const element = document.querySelector('#df-9bad72a6-f556-4d1a-b9f5-4887e80f1f19');\n",
              "        const dataTable =\n",
              "          await google.colab.kernel.invokeFunction('convertToInteractive',\n",
              "                                                    [key], {});\n",
              "        if (!dataTable) return;\n",
              "\n",
              "        const docLinkHtml = 'Like what you see? Visit the ' +\n",
              "          '<a target=\"_blank\" href=https://colab.research.google.com/notebooks/data_table.ipynb>data table notebook</a>'\n",
              "          + ' to learn more about interactive tables.';\n",
              "        element.innerHTML = '';\n",
              "        dataTable['output_type'] = 'display_data';\n",
              "        await google.colab.output.renderOutput(dataTable, element);\n",
              "        const docLink = document.createElement('div');\n",
              "        docLink.innerHTML = docLinkHtml;\n",
              "        element.appendChild(docLink);\n",
              "      }\n",
              "    </script>\n",
              "  </div>\n",
              "\n",
              "\n",
              "    <div id=\"df-46623c30-6eda-4342-8213-0ce5369529d9\">\n",
              "      <button class=\"colab-df-quickchart\" onclick=\"quickchart('df-46623c30-6eda-4342-8213-0ce5369529d9')\"\n",
              "                title=\"Suggest charts\"\n",
              "                style=\"display:none;\">\n",
              "\n",
              "<svg xmlns=\"http://www.w3.org/2000/svg\" height=\"24px\"viewBox=\"0 0 24 24\"\n",
              "     width=\"24px\">\n",
              "    <g>\n",
              "        <path d=\"M19 3H5c-1.1 0-2 .9-2 2v14c0 1.1.9 2 2 2h14c1.1 0 2-.9 2-2V5c0-1.1-.9-2-2-2zM9 17H7v-7h2v7zm4 0h-2V7h2v10zm4 0h-2v-4h2v4z\"/>\n",
              "    </g>\n",
              "</svg>\n",
              "      </button>\n",
              "\n",
              "<style>\n",
              "  .colab-df-quickchart {\n",
              "      --bg-color: #E8F0FE;\n",
              "      --fill-color: #1967D2;\n",
              "      --hover-bg-color: #E2EBFA;\n",
              "      --hover-fill-color: #174EA6;\n",
              "      --disabled-fill-color: #AAA;\n",
              "      --disabled-bg-color: #DDD;\n",
              "  }\n",
              "\n",
              "  [theme=dark] .colab-df-quickchart {\n",
              "      --bg-color: #3B4455;\n",
              "      --fill-color: #D2E3FC;\n",
              "      --hover-bg-color: #434B5C;\n",
              "      --hover-fill-color: #FFFFFF;\n",
              "      --disabled-bg-color: #3B4455;\n",
              "      --disabled-fill-color: #666;\n",
              "  }\n",
              "\n",
              "  .colab-df-quickchart {\n",
              "    background-color: var(--bg-color);\n",
              "    border: none;\n",
              "    border-radius: 50%;\n",
              "    cursor: pointer;\n",
              "    display: none;\n",
              "    fill: var(--fill-color);\n",
              "    height: 32px;\n",
              "    padding: 0;\n",
              "    width: 32px;\n",
              "  }\n",
              "\n",
              "  .colab-df-quickchart:hover {\n",
              "    background-color: var(--hover-bg-color);\n",
              "    box-shadow: 0 1px 2px rgba(60, 64, 67, 0.3), 0 1px 3px 1px rgba(60, 64, 67, 0.15);\n",
              "    fill: var(--button-hover-fill-color);\n",
              "  }\n",
              "\n",
              "  .colab-df-quickchart-complete:disabled,\n",
              "  .colab-df-quickchart-complete:disabled:hover {\n",
              "    background-color: var(--disabled-bg-color);\n",
              "    fill: var(--disabled-fill-color);\n",
              "    box-shadow: none;\n",
              "  }\n",
              "\n",
              "  .colab-df-spinner {\n",
              "    border: 2px solid var(--fill-color);\n",
              "    border-color: transparent;\n",
              "    border-bottom-color: var(--fill-color);\n",
              "    animation:\n",
              "      spin 1s steps(1) infinite;\n",
              "  }\n",
              "\n",
              "  @keyframes spin {\n",
              "    0% {\n",
              "      border-color: transparent;\n",
              "      border-bottom-color: var(--fill-color);\n",
              "      border-left-color: var(--fill-color);\n",
              "    }\n",
              "    20% {\n",
              "      border-color: transparent;\n",
              "      border-left-color: var(--fill-color);\n",
              "      border-top-color: var(--fill-color);\n",
              "    }\n",
              "    30% {\n",
              "      border-color: transparent;\n",
              "      border-left-color: var(--fill-color);\n",
              "      border-top-color: var(--fill-color);\n",
              "      border-right-color: var(--fill-color);\n",
              "    }\n",
              "    40% {\n",
              "      border-color: transparent;\n",
              "      border-right-color: var(--fill-color);\n",
              "      border-top-color: var(--fill-color);\n",
              "    }\n",
              "    60% {\n",
              "      border-color: transparent;\n",
              "      border-right-color: var(--fill-color);\n",
              "    }\n",
              "    80% {\n",
              "      border-color: transparent;\n",
              "      border-right-color: var(--fill-color);\n",
              "      border-bottom-color: var(--fill-color);\n",
              "    }\n",
              "    90% {\n",
              "      border-color: transparent;\n",
              "      border-bottom-color: var(--fill-color);\n",
              "    }\n",
              "  }\n",
              "</style>\n",
              "\n",
              "      <script>\n",
              "        async function quickchart(key) {\n",
              "          const quickchartButtonEl =\n",
              "            document.querySelector('#' + key + ' button');\n",
              "          quickchartButtonEl.disabled = true;  // To prevent multiple clicks.\n",
              "          quickchartButtonEl.classList.add('colab-df-spinner');\n",
              "          try {\n",
              "            const charts = await google.colab.kernel.invokeFunction(\n",
              "                'suggestCharts', [key], {});\n",
              "          } catch (error) {\n",
              "            console.error('Error during call to suggestCharts:', error);\n",
              "          }\n",
              "          quickchartButtonEl.classList.remove('colab-df-spinner');\n",
              "          quickchartButtonEl.classList.add('colab-df-quickchart-complete');\n",
              "        }\n",
              "        (() => {\n",
              "          let quickchartButtonEl =\n",
              "            document.querySelector('#df-46623c30-6eda-4342-8213-0ce5369529d9 button');\n",
              "          quickchartButtonEl.style.display =\n",
              "            google.colab.kernel.accessAllowed ? 'block' : 'none';\n",
              "        })();\n",
              "      </script>\n",
              "    </div>\n",
              "\n",
              "    </div>\n",
              "  </div>\n"
            ],
            "application/vnd.google.colaboratory.intrinsic+json": {
              "type": "dataframe",
              "summary": "{\n  \"name\": \"df\",\n  \"rows\": 8,\n  \"fields\": [\n    {\n      \"column\": \"VendorID\",\n      \"properties\": {\n        \"dtype\": \"number\",\n        \"std\": 871130.4415283408,\n        \"min\": 0.5021374727206847,\n        \"max\": 2463931.0,\n        \"num_unique_values\": 6,\n        \"samples\": [\n          2463931.0,\n          1.707819334226486,\n          0.5021374727206847\n        ],\n        \"semantic_type\": \"\",\n        \"description\": \"\"\n      }\n    },\n    {\n      \"column\": \"tpep_pickup_datetime\",\n      \"properties\": {\n        \"dtype\": \"date\",\n        \"min\": \"1970-01-01 00:00:00.002463931\",\n        \"max\": \"2022-05-18 20:41:57\",\n        \"num_unique_values\": 7,\n        \"samples\": [\n          \"2463931\",\n          \"2022-01-17 01:19:51.689724\",\n          \"2022-01-24 13:49:37.500000\"\n        ],\n        \"semantic_type\": \"\",\n        \"description\": \"\"\n      }\n    },\n    {\n      \"column\": \"tpep_dropoff_datetime\",\n      \"properties\": {\n        \"dtype\": \"date\",\n        \"min\": \"1970-01-01 00:00:00.002463931\",\n        \"max\": \"2022-05-18 20:47:45\",\n        \"num_unique_values\": 7,\n        \"samples\": [\n          \"2463931\",\n          \"2022-01-17 01:34:04.421902\",\n          \"2022-01-24 14:02:51\"\n        ],\n        \"semantic_type\": \"\",\n        \"description\": \"\"\n      }\n    },\n    {\n      \"column\": \"passenger_count\",\n      \"properties\": {\n        \"dtype\": \"number\",\n        \"std\": 845850.3052382031,\n        \"min\": 0.0,\n        \"max\": 2392428.0,\n        \"num_unique_values\": 6,\n        \"samples\": [\n          2392428.0,\n          1.3894533085217193,\n          0.9829685911151312\n        ],\n        \"semantic_type\": \"\",\n        \"description\": \"\"\n      }\n    },\n    {\n      \"column\": \"trip_distance\",\n      \"properties\": {\n        \"dtype\": \"number\",\n        \"std\": 862316.4394171572,\n        \"min\": 0.0,\n        \"max\": 2463931.0,\n        \"num_unique_values\": 8,\n        \"samples\": [\n          5.372751193113768,\n          3.13,\n          2463931.0\n        ],\n        \"semantic_type\": \"\",\n        \"description\": \"\"\n      }\n    },\n    {\n      \"column\": \"RatecodeID\",\n      \"properties\": {\n        \"dtype\": \"number\",\n        \"std\": 845845.4591724741,\n        \"min\": 1.0,\n        \"max\": 2392428.0,\n        \"num_unique_values\": 5,\n        \"samples\": [\n          1.4155067571521485,\n          5.917573265313045,\n          1.0\n        ],\n        \"semantic_type\": \"\",\n        \"description\": \"\"\n      }\n    },\n    {\n      \"column\": \"PULocationID\",\n      \"properties\": {\n        \"dtype\": \"number\",\n        \"std\": 871079.3655220721,\n        \"min\": 1.0,\n        \"max\": 2463931.0,\n        \"num_unique_values\": 8,\n        \"samples\": [\n          166.07680937493785,\n          234.0,\n          2463931.0\n        ],\n        \"semantic_type\": \"\",\n        \"description\": \"\"\n      }\n    },\n    {\n      \"column\": \"DOLocationID\",\n      \"properties\": {\n        \"dtype\": \"number\",\n        \"std\": 871080.0814423591,\n        \"min\": 1.0,\n        \"max\": 2463931.0,\n        \"num_unique_values\": 8,\n        \"samples\": [\n          163.58071553140084,\n          236.0,\n          2463931.0\n        ],\n        \"semantic_type\": \"\",\n        \"description\": \"\"\n      }\n    },\n    {\n      \"column\": \"payment_type\",\n      \"properties\": {\n        \"dtype\": \"number\",\n        \"std\": 871130.6695866087,\n        \"min\": 0.0,\n        \"max\": 2463931.0,\n        \"num_unique_values\": 6,\n        \"samples\": [\n          2463931.0,\n          1.194449032866586,\n          0.5001778217719834\n        ],\n        \"semantic_type\": \"\",\n        \"description\": \"\"\n      }\n    },\n    {\n      \"column\": \"fare_amount\",\n      \"properties\": {\n        \"dtype\": \"number\",\n        \"std\": 862381.8061838396,\n        \"min\": -480.0,\n        \"max\": 2463931.0,\n        \"num_unique_values\": 8,\n        \"samples\": [\n          12.946484016800797,\n          14.0,\n          2463931.0\n        ],\n        \"semantic_type\": \"\",\n        \"description\": \"\"\n      }\n    },\n    {\n      \"column\": \"extra\",\n      \"properties\": {\n        \"dtype\": \"number\",\n        \"std\": 871129.4297891044,\n        \"min\": -4.5,\n        \"max\": 2463931.0,\n        \"num_unique_values\": 8,\n        \"samples\": [\n          1.0067101432629406,\n          2.5,\n          2463931.0\n        ],\n        \"semantic_type\": \"\",\n        \"description\": \"\"\n      }\n    },\n    {\n      \"column\": \"mta_tax\",\n      \"properties\": {\n        \"dtype\": \"number\",\n        \"std\": 871130.241817477,\n        \"min\": -0.5,\n        \"max\": 2463931.0,\n        \"num_unique_values\": 6,\n        \"samples\": [\n          2463931.0,\n          0.4914538921747404,\n          0.08291560479683\n        ],\n        \"semantic_type\": \"\",\n        \"description\": \"\"\n      }\n    },\n    {\n      \"column\": \"tip_amount\",\n      \"properties\": {\n        \"dtype\": \"number\",\n        \"std\": 871092.0952594293,\n        \"min\": -125.22,\n        \"max\": 2463931.0,\n        \"num_unique_values\": 8,\n        \"samples\": [\n          2.3856955409871454,\n          3.0,\n          2463931.0\n        ],\n        \"semantic_type\": \"\",\n        \"description\": \"\"\n      }\n    },\n    {\n      \"column\": \"tolls_amount\",\n      \"properties\": {\n        \"dtype\": \"number\",\n        \"std\": 871122.8810638053,\n        \"min\": -31.4,\n        \"max\": 2463931.0,\n        \"num_unique_values\": 6,\n        \"samples\": [\n          2463931.0,\n          0.3749772660029846,\n          1.6805380158398828\n        ],\n        \"semantic_type\": \"\",\n        \"description\": \"\"\n      }\n    },\n    {\n      \"column\": \"improvement_surcharge\",\n      \"properties\": {\n        \"dtype\": \"number\",\n        \"std\": 871131.0965846643,\n        \"min\": -0.3,\n        \"max\": 2463931.0,\n        \"num_unique_values\": 5,\n        \"samples\": [\n          0.2967234066213704,\n          0.04374740737760053,\n          -0.3\n        ],\n        \"semantic_type\": \"\",\n        \"description\": \"\"\n      }\n    },\n    {\n      \"column\": \"total_amount\",\n      \"properties\": {\n        \"dtype\": \"number\",\n        \"std\": 862380.4901519893,\n        \"min\": -480.3,\n        \"max\": 2463931.0,\n        \"num_unique_values\": 8,\n        \"samples\": [\n          19.169370095997017,\n          20.02,\n          2463931.0\n        ],\n        \"semantic_type\": \"\",\n        \"description\": \"\"\n      }\n    },\n    {\n      \"column\": \"congestion_surcharge\",\n      \"properties\": {\n        \"dtype\": \"number\",\n        \"std\": 845850.4995327061,\n        \"min\": -2.5,\n        \"max\": 2392428.0,\n        \"num_unique_values\": 5,\n        \"samples\": [\n          2.282322498315519,\n          0.7432039804782518,\n          -2.5\n        ],\n        \"semantic_type\": \"\",\n        \"description\": \"\"\n      }\n    },\n    {\n      \"column\": \"airport_fee\",\n      \"properties\": {\n        \"dtype\": \"number\",\n        \"std\": 845851.0111972755,\n        \"min\": -1.25,\n        \"max\": 2392428.0,\n        \"num_unique_values\": 6,\n        \"samples\": [\n          2392428.0,\n          0.08249934794275941,\n          0.31255544178514616\n        ],\n        \"semantic_type\": \"\",\n        \"description\": \"\"\n      }\n    }\n  ]\n}"
            }
          },
          "metadata": {},
          "execution_count": 188
        }
      ]
    },
    {
      "cell_type": "markdown",
      "source": [
        "Yeah, there’s something odd in the dataset. For example, the columns for \"fare_amount\", \"mta_tax\", \"tip_amount\", \"tolls_amount\", and \"airport_fee\" contain negative values which is unexpected. These are all charges that should be positive or zero, not negative. It could be a typo, a system bug, or maybe a refund that wasn’t recorded properly. A good next step might be to either leave those rows out of the analysis or, if possible, try to get a cleaner version of the data."
      ],
      "metadata": {
        "id": "LFeXsOvGqszU"
      }
    },
    {
      "cell_type": "markdown",
      "source": [
        "**6. Drop all rows with NULL values and store the result. We'll ignore NULL valued rows in this mini-project.**"
      ],
      "metadata": {
        "id": "ayQ6r3d7A-Au"
      }
    },
    {
      "cell_type": "code",
      "source": [
        "df_filter = df.dropna()"
      ],
      "metadata": {
        "id": "GLYJUujoBB79"
      },
      "execution_count": 189,
      "outputs": []
    },
    {
      "cell_type": "code",
      "source": [
        "#We can see this works by either looking at the data directly or the shape reduction\n",
        "print(df_filter.head())\n",
        "print(f'{df.shape} -drop nulls-> {df_filter.shape}')"
      ],
      "metadata": {
        "colab": {
          "base_uri": "https://localhost:8080/"
        },
        "id": "xwqFAhFpBUX0",
        "outputId": "9da83c80-2600-44ff-af6f-10d165d795d4"
      },
      "execution_count": 190,
      "outputs": [
        {
          "output_type": "stream",
          "name": "stdout",
          "text": [
            "   VendorID tpep_pickup_datetime tpep_dropoff_datetime  passenger_count  \\\n",
            "0         1  2022-01-01 00:35:40   2022-01-01 00:53:29              2.0   \n",
            "1         1  2022-01-01 00:33:43   2022-01-01 00:42:07              1.0   \n",
            "2         2  2022-01-01 00:53:21   2022-01-01 01:02:19              1.0   \n",
            "3         2  2022-01-01 00:25:21   2022-01-01 00:35:23              1.0   \n",
            "4         2  2022-01-01 00:36:48   2022-01-01 01:14:20              1.0   \n",
            "\n",
            "   trip_distance  RatecodeID store_and_fwd_flag  PULocationID  DOLocationID  \\\n",
            "0           3.80         1.0                  N           142           236   \n",
            "1           2.10         1.0                  N           236            42   \n",
            "2           0.97         1.0                  N           166           166   \n",
            "3           1.09         1.0                  N           114            68   \n",
            "4           4.30         1.0                  N            68           163   \n",
            "\n",
            "   payment_type  fare_amount  extra  mta_tax  tip_amount  tolls_amount  \\\n",
            "0             1         14.5    3.0      0.5        3.65           0.0   \n",
            "1             1          8.0    0.5      0.5        4.00           0.0   \n",
            "2             1          7.5    0.5      0.5        1.76           0.0   \n",
            "3             2          8.0    0.5      0.5        0.00           0.0   \n",
            "4             1         23.5    0.5      0.5        3.00           0.0   \n",
            "\n",
            "   improvement_surcharge  total_amount  congestion_surcharge  airport_fee  \n",
            "0                    0.3         21.95                   2.5          0.0  \n",
            "1                    0.3         13.30                   0.0          0.0  \n",
            "2                    0.3         10.56                   0.0          0.0  \n",
            "3                    0.3         11.80                   2.5          0.0  \n",
            "4                    0.3         30.30                   2.5          0.0  \n",
            "(2463931, 19) -drop nulls-> (2392428, 19)\n"
          ]
        }
      ]
    },
    {
      "cell_type": "markdown",
      "source": [
        "**Part 2**"
      ],
      "metadata": {
        "id": "tgAc3aRrE9FA"
      }
    },
    {
      "cell_type": "markdown",
      "source": [
        "**1. Create a new feature that calculates the trip duration in minutes.**"
      ],
      "metadata": {
        "id": "7L9jj015Hn7M"
      }
    },
    {
      "cell_type": "markdown",
      "source": [
        "Since we are dealing with time, it is convenient to use the datetime data structure so we can just take the difference between times.\n",
        "\n",
        "Also, according to the problem statement, it says to ignore all null values so we will just use the df_filter DataFrame"
      ],
      "metadata": {
        "id": "vdaMrbIFFYnR"
      }
    },
    {
      "cell_type": "code",
      "source": [
        "df_filter['tpep_pickup_datetime'] = pd.to_datetime(df_filter['tpep_pickup_datetime'])\n",
        "df_filter['tpep_dropoff_datetime'] = pd.to_datetime(df_filter['tpep_dropoff_datetime'])"
      ],
      "metadata": {
        "colab": {
          "base_uri": "https://localhost:8080/"
        },
        "id": "7Nmwp_7FG0yT",
        "outputId": "a69f30b5-0cd5-4238-9264-8cbcdb1af22e"
      },
      "execution_count": 191,
      "outputs": [
        {
          "output_type": "stream",
          "name": "stderr",
          "text": [
            "<ipython-input-191-452650ce8557>:1: SettingWithCopyWarning: \n",
            "A value is trying to be set on a copy of a slice from a DataFrame.\n",
            "Try using .loc[row_indexer,col_indexer] = value instead\n",
            "\n",
            "See the caveats in the documentation: https://pandas.pydata.org/pandas-docs/stable/user_guide/indexing.html#returning-a-view-versus-a-copy\n",
            "  df_filter['tpep_pickup_datetime'] = pd.to_datetime(df_filter['tpep_pickup_datetime'])\n",
            "<ipython-input-191-452650ce8557>:2: SettingWithCopyWarning: \n",
            "A value is trying to be set on a copy of a slice from a DataFrame.\n",
            "Try using .loc[row_indexer,col_indexer] = value instead\n",
            "\n",
            "See the caveats in the documentation: https://pandas.pydata.org/pandas-docs/stable/user_guide/indexing.html#returning-a-view-versus-a-copy\n",
            "  df_filter['tpep_dropoff_datetime'] = pd.to_datetime(df_filter['tpep_dropoff_datetime'])\n"
          ]
        }
      ]
    },
    {
      "cell_type": "markdown",
      "source": [
        "Now we define a new column called \"trip_duration_in_minutes\""
      ],
      "metadata": {
        "id": "PY7xExJFIRh4"
      }
    },
    {
      "cell_type": "code",
      "source": [
        "df_filter['trip_duration_in_minutes'] = (df_filter['tpep_dropoff_datetime'] - df_filter['tpep_pickup_datetime']).dt.total_seconds()/60"
      ],
      "metadata": {
        "colab": {
          "base_uri": "https://localhost:8080/"
        },
        "id": "hVFNewnmJCW1",
        "outputId": "6720b8a9-c6e0-4c07-c1b0-81e6cdb85729"
      },
      "execution_count": 192,
      "outputs": [
        {
          "output_type": "stream",
          "name": "stderr",
          "text": [
            "<ipython-input-192-b63137a2c37f>:1: SettingWithCopyWarning: \n",
            "A value is trying to be set on a copy of a slice from a DataFrame.\n",
            "Try using .loc[row_indexer,col_indexer] = value instead\n",
            "\n",
            "See the caveats in the documentation: https://pandas.pydata.org/pandas-docs/stable/user_guide/indexing.html#returning-a-view-versus-a-copy\n",
            "  df_filter['trip_duration_in_minutes'] = (df_filter['tpep_dropoff_datetime'] - df_filter['tpep_pickup_datetime']).dt.total_seconds()/60\n"
          ]
        }
      ]
    },
    {
      "cell_type": "code",
      "source": [
        "df_filter[['tpep_pickup_datetime', 'tpep_dropoff_datetime', 'trip_duration_in_minutes']] #nice to see this indeed works :)"
      ],
      "metadata": {
        "colab": {
          "base_uri": "https://localhost:8080/",
          "height": 424
        },
        "id": "CAew_lEpJXXr",
        "outputId": "02795b58-7d5d-41a9-fa0d-338a6da0c3e4"
      },
      "execution_count": 193,
      "outputs": [
        {
          "output_type": "execute_result",
          "data": {
            "text/plain": [
              "        tpep_pickup_datetime tpep_dropoff_datetime  trip_duration_in_minutes\n",
              "0        2022-01-01 00:35:40   2022-01-01 00:53:29                 17.816667\n",
              "1        2022-01-01 00:33:43   2022-01-01 00:42:07                  8.400000\n",
              "2        2022-01-01 00:53:21   2022-01-01 01:02:19                  8.966667\n",
              "3        2022-01-01 00:25:21   2022-01-01 00:35:23                 10.033333\n",
              "4        2022-01-01 00:36:48   2022-01-01 01:14:20                 37.533333\n",
              "...                      ...                   ...                       ...\n",
              "2392423  2022-01-31 23:24:28   2022-01-31 23:32:47                  8.316667\n",
              "2392424  2022-01-31 23:17:44   2022-01-31 23:22:05                  4.350000\n",
              "2392425  2022-01-31 23:26:41   2022-01-31 23:34:54                  8.216667\n",
              "2392426  2022-01-31 23:37:41   2022-01-31 23:45:26                  7.750000\n",
              "2392427  2022-01-31 23:43:22   2022-01-31 23:55:36                 12.233333\n",
              "\n",
              "[2392428 rows x 3 columns]"
            ],
            "text/html": [
              "\n",
              "  <div id=\"df-0acf1a44-8927-41c2-b461-0ad2c110b319\" class=\"colab-df-container\">\n",
              "    <div>\n",
              "<style scoped>\n",
              "    .dataframe tbody tr th:only-of-type {\n",
              "        vertical-align: middle;\n",
              "    }\n",
              "\n",
              "    .dataframe tbody tr th {\n",
              "        vertical-align: top;\n",
              "    }\n",
              "\n",
              "    .dataframe thead th {\n",
              "        text-align: right;\n",
              "    }\n",
              "</style>\n",
              "<table border=\"1\" class=\"dataframe\">\n",
              "  <thead>\n",
              "    <tr style=\"text-align: right;\">\n",
              "      <th></th>\n",
              "      <th>tpep_pickup_datetime</th>\n",
              "      <th>tpep_dropoff_datetime</th>\n",
              "      <th>trip_duration_in_minutes</th>\n",
              "    </tr>\n",
              "  </thead>\n",
              "  <tbody>\n",
              "    <tr>\n",
              "      <th>0</th>\n",
              "      <td>2022-01-01 00:35:40</td>\n",
              "      <td>2022-01-01 00:53:29</td>\n",
              "      <td>17.816667</td>\n",
              "    </tr>\n",
              "    <tr>\n",
              "      <th>1</th>\n",
              "      <td>2022-01-01 00:33:43</td>\n",
              "      <td>2022-01-01 00:42:07</td>\n",
              "      <td>8.400000</td>\n",
              "    </tr>\n",
              "    <tr>\n",
              "      <th>2</th>\n",
              "      <td>2022-01-01 00:53:21</td>\n",
              "      <td>2022-01-01 01:02:19</td>\n",
              "      <td>8.966667</td>\n",
              "    </tr>\n",
              "    <tr>\n",
              "      <th>3</th>\n",
              "      <td>2022-01-01 00:25:21</td>\n",
              "      <td>2022-01-01 00:35:23</td>\n",
              "      <td>10.033333</td>\n",
              "    </tr>\n",
              "    <tr>\n",
              "      <th>4</th>\n",
              "      <td>2022-01-01 00:36:48</td>\n",
              "      <td>2022-01-01 01:14:20</td>\n",
              "      <td>37.533333</td>\n",
              "    </tr>\n",
              "    <tr>\n",
              "      <th>...</th>\n",
              "      <td>...</td>\n",
              "      <td>...</td>\n",
              "      <td>...</td>\n",
              "    </tr>\n",
              "    <tr>\n",
              "      <th>2392423</th>\n",
              "      <td>2022-01-31 23:24:28</td>\n",
              "      <td>2022-01-31 23:32:47</td>\n",
              "      <td>8.316667</td>\n",
              "    </tr>\n",
              "    <tr>\n",
              "      <th>2392424</th>\n",
              "      <td>2022-01-31 23:17:44</td>\n",
              "      <td>2022-01-31 23:22:05</td>\n",
              "      <td>4.350000</td>\n",
              "    </tr>\n",
              "    <tr>\n",
              "      <th>2392425</th>\n",
              "      <td>2022-01-31 23:26:41</td>\n",
              "      <td>2022-01-31 23:34:54</td>\n",
              "      <td>8.216667</td>\n",
              "    </tr>\n",
              "    <tr>\n",
              "      <th>2392426</th>\n",
              "      <td>2022-01-31 23:37:41</td>\n",
              "      <td>2022-01-31 23:45:26</td>\n",
              "      <td>7.750000</td>\n",
              "    </tr>\n",
              "    <tr>\n",
              "      <th>2392427</th>\n",
              "      <td>2022-01-31 23:43:22</td>\n",
              "      <td>2022-01-31 23:55:36</td>\n",
              "      <td>12.233333</td>\n",
              "    </tr>\n",
              "  </tbody>\n",
              "</table>\n",
              "<p>2392428 rows × 3 columns</p>\n",
              "</div>\n",
              "    <div class=\"colab-df-buttons\">\n",
              "\n",
              "  <div class=\"colab-df-container\">\n",
              "    <button class=\"colab-df-convert\" onclick=\"convertToInteractive('df-0acf1a44-8927-41c2-b461-0ad2c110b319')\"\n",
              "            title=\"Convert this dataframe to an interactive table.\"\n",
              "            style=\"display:none;\">\n",
              "\n",
              "  <svg xmlns=\"http://www.w3.org/2000/svg\" height=\"24px\" viewBox=\"0 -960 960 960\">\n",
              "    <path d=\"M120-120v-720h720v720H120Zm60-500h600v-160H180v160Zm220 220h160v-160H400v160Zm0 220h160v-160H400v160ZM180-400h160v-160H180v160Zm440 0h160v-160H620v160ZM180-180h160v-160H180v160Zm440 0h160v-160H620v160Z\"/>\n",
              "  </svg>\n",
              "    </button>\n",
              "\n",
              "  <style>\n",
              "    .colab-df-container {\n",
              "      display:flex;\n",
              "      gap: 12px;\n",
              "    }\n",
              "\n",
              "    .colab-df-convert {\n",
              "      background-color: #E8F0FE;\n",
              "      border: none;\n",
              "      border-radius: 50%;\n",
              "      cursor: pointer;\n",
              "      display: none;\n",
              "      fill: #1967D2;\n",
              "      height: 32px;\n",
              "      padding: 0 0 0 0;\n",
              "      width: 32px;\n",
              "    }\n",
              "\n",
              "    .colab-df-convert:hover {\n",
              "      background-color: #E2EBFA;\n",
              "      box-shadow: 0px 1px 2px rgba(60, 64, 67, 0.3), 0px 1px 3px 1px rgba(60, 64, 67, 0.15);\n",
              "      fill: #174EA6;\n",
              "    }\n",
              "\n",
              "    .colab-df-buttons div {\n",
              "      margin-bottom: 4px;\n",
              "    }\n",
              "\n",
              "    [theme=dark] .colab-df-convert {\n",
              "      background-color: #3B4455;\n",
              "      fill: #D2E3FC;\n",
              "    }\n",
              "\n",
              "    [theme=dark] .colab-df-convert:hover {\n",
              "      background-color: #434B5C;\n",
              "      box-shadow: 0px 1px 3px 1px rgba(0, 0, 0, 0.15);\n",
              "      filter: drop-shadow(0px 1px 2px rgba(0, 0, 0, 0.3));\n",
              "      fill: #FFFFFF;\n",
              "    }\n",
              "  </style>\n",
              "\n",
              "    <script>\n",
              "      const buttonEl =\n",
              "        document.querySelector('#df-0acf1a44-8927-41c2-b461-0ad2c110b319 button.colab-df-convert');\n",
              "      buttonEl.style.display =\n",
              "        google.colab.kernel.accessAllowed ? 'block' : 'none';\n",
              "\n",
              "      async function convertToInteractive(key) {\n",
              "        const element = document.querySelector('#df-0acf1a44-8927-41c2-b461-0ad2c110b319');\n",
              "        const dataTable =\n",
              "          await google.colab.kernel.invokeFunction('convertToInteractive',\n",
              "                                                    [key], {});\n",
              "        if (!dataTable) return;\n",
              "\n",
              "        const docLinkHtml = 'Like what you see? Visit the ' +\n",
              "          '<a target=\"_blank\" href=https://colab.research.google.com/notebooks/data_table.ipynb>data table notebook</a>'\n",
              "          + ' to learn more about interactive tables.';\n",
              "        element.innerHTML = '';\n",
              "        dataTable['output_type'] = 'display_data';\n",
              "        await google.colab.output.renderOutput(dataTable, element);\n",
              "        const docLink = document.createElement('div');\n",
              "        docLink.innerHTML = docLinkHtml;\n",
              "        element.appendChild(docLink);\n",
              "      }\n",
              "    </script>\n",
              "  </div>\n",
              "\n",
              "\n",
              "    <div id=\"df-3d5f67e4-5440-49b2-9e07-59c87d163cc0\">\n",
              "      <button class=\"colab-df-quickchart\" onclick=\"quickchart('df-3d5f67e4-5440-49b2-9e07-59c87d163cc0')\"\n",
              "                title=\"Suggest charts\"\n",
              "                style=\"display:none;\">\n",
              "\n",
              "<svg xmlns=\"http://www.w3.org/2000/svg\" height=\"24px\"viewBox=\"0 0 24 24\"\n",
              "     width=\"24px\">\n",
              "    <g>\n",
              "        <path d=\"M19 3H5c-1.1 0-2 .9-2 2v14c0 1.1.9 2 2 2h14c1.1 0 2-.9 2-2V5c0-1.1-.9-2-2-2zM9 17H7v-7h2v7zm4 0h-2V7h2v10zm4 0h-2v-4h2v4z\"/>\n",
              "    </g>\n",
              "</svg>\n",
              "      </button>\n",
              "\n",
              "<style>\n",
              "  .colab-df-quickchart {\n",
              "      --bg-color: #E8F0FE;\n",
              "      --fill-color: #1967D2;\n",
              "      --hover-bg-color: #E2EBFA;\n",
              "      --hover-fill-color: #174EA6;\n",
              "      --disabled-fill-color: #AAA;\n",
              "      --disabled-bg-color: #DDD;\n",
              "  }\n",
              "\n",
              "  [theme=dark] .colab-df-quickchart {\n",
              "      --bg-color: #3B4455;\n",
              "      --fill-color: #D2E3FC;\n",
              "      --hover-bg-color: #434B5C;\n",
              "      --hover-fill-color: #FFFFFF;\n",
              "      --disabled-bg-color: #3B4455;\n",
              "      --disabled-fill-color: #666;\n",
              "  }\n",
              "\n",
              "  .colab-df-quickchart {\n",
              "    background-color: var(--bg-color);\n",
              "    border: none;\n",
              "    border-radius: 50%;\n",
              "    cursor: pointer;\n",
              "    display: none;\n",
              "    fill: var(--fill-color);\n",
              "    height: 32px;\n",
              "    padding: 0;\n",
              "    width: 32px;\n",
              "  }\n",
              "\n",
              "  .colab-df-quickchart:hover {\n",
              "    background-color: var(--hover-bg-color);\n",
              "    box-shadow: 0 1px 2px rgba(60, 64, 67, 0.3), 0 1px 3px 1px rgba(60, 64, 67, 0.15);\n",
              "    fill: var(--button-hover-fill-color);\n",
              "  }\n",
              "\n",
              "  .colab-df-quickchart-complete:disabled,\n",
              "  .colab-df-quickchart-complete:disabled:hover {\n",
              "    background-color: var(--disabled-bg-color);\n",
              "    fill: var(--disabled-fill-color);\n",
              "    box-shadow: none;\n",
              "  }\n",
              "\n",
              "  .colab-df-spinner {\n",
              "    border: 2px solid var(--fill-color);\n",
              "    border-color: transparent;\n",
              "    border-bottom-color: var(--fill-color);\n",
              "    animation:\n",
              "      spin 1s steps(1) infinite;\n",
              "  }\n",
              "\n",
              "  @keyframes spin {\n",
              "    0% {\n",
              "      border-color: transparent;\n",
              "      border-bottom-color: var(--fill-color);\n",
              "      border-left-color: var(--fill-color);\n",
              "    }\n",
              "    20% {\n",
              "      border-color: transparent;\n",
              "      border-left-color: var(--fill-color);\n",
              "      border-top-color: var(--fill-color);\n",
              "    }\n",
              "    30% {\n",
              "      border-color: transparent;\n",
              "      border-left-color: var(--fill-color);\n",
              "      border-top-color: var(--fill-color);\n",
              "      border-right-color: var(--fill-color);\n",
              "    }\n",
              "    40% {\n",
              "      border-color: transparent;\n",
              "      border-right-color: var(--fill-color);\n",
              "      border-top-color: var(--fill-color);\n",
              "    }\n",
              "    60% {\n",
              "      border-color: transparent;\n",
              "      border-right-color: var(--fill-color);\n",
              "    }\n",
              "    80% {\n",
              "      border-color: transparent;\n",
              "      border-right-color: var(--fill-color);\n",
              "      border-bottom-color: var(--fill-color);\n",
              "    }\n",
              "    90% {\n",
              "      border-color: transparent;\n",
              "      border-bottom-color: var(--fill-color);\n",
              "    }\n",
              "  }\n",
              "</style>\n",
              "\n",
              "      <script>\n",
              "        async function quickchart(key) {\n",
              "          const quickchartButtonEl =\n",
              "            document.querySelector('#' + key + ' button');\n",
              "          quickchartButtonEl.disabled = true;  // To prevent multiple clicks.\n",
              "          quickchartButtonEl.classList.add('colab-df-spinner');\n",
              "          try {\n",
              "            const charts = await google.colab.kernel.invokeFunction(\n",
              "                'suggestCharts', [key], {});\n",
              "          } catch (error) {\n",
              "            console.error('Error during call to suggestCharts:', error);\n",
              "          }\n",
              "          quickchartButtonEl.classList.remove('colab-df-spinner');\n",
              "          quickchartButtonEl.classList.add('colab-df-quickchart-complete');\n",
              "        }\n",
              "        (() => {\n",
              "          let quickchartButtonEl =\n",
              "            document.querySelector('#df-3d5f67e4-5440-49b2-9e07-59c87d163cc0 button');\n",
              "          quickchartButtonEl.style.display =\n",
              "            google.colab.kernel.accessAllowed ? 'block' : 'none';\n",
              "        })();\n",
              "      </script>\n",
              "    </div>\n",
              "\n",
              "    </div>\n",
              "  </div>\n"
            ],
            "application/vnd.google.colaboratory.intrinsic+json": {
              "type": "dataframe"
            }
          },
          "metadata": {},
          "execution_count": 193
        }
      ]
    },
    {
      "cell_type": "markdown",
      "source": [
        "**2. Create additional features for the pick-up day of week and pick-up hour.**"
      ],
      "metadata": {
        "id": "8EnaAXYZSWzT"
      }
    },
    {
      "cell_type": "code",
      "source": [
        "df_filter['pickup_dayofweek'] = df['tpep_pickup_datetime'].dt.dayofweek\n",
        "df_filter['pickup_hour'] = df['tpep_pickup_datetime'].dt.hour\n",
        "df_filter[['tpep_pickup_datetime', 'pickup_dayofweek', 'pickup_hour']]"
      ],
      "metadata": {
        "colab": {
          "base_uri": "https://localhost:8080/",
          "height": 632
        },
        "id": "q9jo5ZDlSbim",
        "outputId": "53ba5c16-82cf-4685-ed9e-6ab296d823a8"
      },
      "execution_count": 194,
      "outputs": [
        {
          "output_type": "stream",
          "name": "stderr",
          "text": [
            "<ipython-input-194-413da22f50bd>:1: SettingWithCopyWarning: \n",
            "A value is trying to be set on a copy of a slice from a DataFrame.\n",
            "Try using .loc[row_indexer,col_indexer] = value instead\n",
            "\n",
            "See the caveats in the documentation: https://pandas.pydata.org/pandas-docs/stable/user_guide/indexing.html#returning-a-view-versus-a-copy\n",
            "  df_filter['pickup_dayofweek'] = df['tpep_pickup_datetime'].dt.dayofweek\n",
            "<ipython-input-194-413da22f50bd>:2: SettingWithCopyWarning: \n",
            "A value is trying to be set on a copy of a slice from a DataFrame.\n",
            "Try using .loc[row_indexer,col_indexer] = value instead\n",
            "\n",
            "See the caveats in the documentation: https://pandas.pydata.org/pandas-docs/stable/user_guide/indexing.html#returning-a-view-versus-a-copy\n",
            "  df_filter['pickup_hour'] = df['tpep_pickup_datetime'].dt.hour\n"
          ]
        },
        {
          "output_type": "execute_result",
          "data": {
            "text/plain": [
              "        tpep_pickup_datetime  pickup_dayofweek  pickup_hour\n",
              "0        2022-01-01 00:35:40                 5            0\n",
              "1        2022-01-01 00:33:43                 5            0\n",
              "2        2022-01-01 00:53:21                 5            0\n",
              "3        2022-01-01 00:25:21                 5            0\n",
              "4        2022-01-01 00:36:48                 5            0\n",
              "...                      ...               ...          ...\n",
              "2392423  2022-01-31 23:24:28                 0           23\n",
              "2392424  2022-01-31 23:17:44                 0           23\n",
              "2392425  2022-01-31 23:26:41                 0           23\n",
              "2392426  2022-01-31 23:37:41                 0           23\n",
              "2392427  2022-01-31 23:43:22                 0           23\n",
              "\n",
              "[2392428 rows x 3 columns]"
            ],
            "text/html": [
              "\n",
              "  <div id=\"df-42ecb2d5-f423-4c82-b6b7-db2edc990c0f\" class=\"colab-df-container\">\n",
              "    <div>\n",
              "<style scoped>\n",
              "    .dataframe tbody tr th:only-of-type {\n",
              "        vertical-align: middle;\n",
              "    }\n",
              "\n",
              "    .dataframe tbody tr th {\n",
              "        vertical-align: top;\n",
              "    }\n",
              "\n",
              "    .dataframe thead th {\n",
              "        text-align: right;\n",
              "    }\n",
              "</style>\n",
              "<table border=\"1\" class=\"dataframe\">\n",
              "  <thead>\n",
              "    <tr style=\"text-align: right;\">\n",
              "      <th></th>\n",
              "      <th>tpep_pickup_datetime</th>\n",
              "      <th>pickup_dayofweek</th>\n",
              "      <th>pickup_hour</th>\n",
              "    </tr>\n",
              "  </thead>\n",
              "  <tbody>\n",
              "    <tr>\n",
              "      <th>0</th>\n",
              "      <td>2022-01-01 00:35:40</td>\n",
              "      <td>5</td>\n",
              "      <td>0</td>\n",
              "    </tr>\n",
              "    <tr>\n",
              "      <th>1</th>\n",
              "      <td>2022-01-01 00:33:43</td>\n",
              "      <td>5</td>\n",
              "      <td>0</td>\n",
              "    </tr>\n",
              "    <tr>\n",
              "      <th>2</th>\n",
              "      <td>2022-01-01 00:53:21</td>\n",
              "      <td>5</td>\n",
              "      <td>0</td>\n",
              "    </tr>\n",
              "    <tr>\n",
              "      <th>3</th>\n",
              "      <td>2022-01-01 00:25:21</td>\n",
              "      <td>5</td>\n",
              "      <td>0</td>\n",
              "    </tr>\n",
              "    <tr>\n",
              "      <th>4</th>\n",
              "      <td>2022-01-01 00:36:48</td>\n",
              "      <td>5</td>\n",
              "      <td>0</td>\n",
              "    </tr>\n",
              "    <tr>\n",
              "      <th>...</th>\n",
              "      <td>...</td>\n",
              "      <td>...</td>\n",
              "      <td>...</td>\n",
              "    </tr>\n",
              "    <tr>\n",
              "      <th>2392423</th>\n",
              "      <td>2022-01-31 23:24:28</td>\n",
              "      <td>0</td>\n",
              "      <td>23</td>\n",
              "    </tr>\n",
              "    <tr>\n",
              "      <th>2392424</th>\n",
              "      <td>2022-01-31 23:17:44</td>\n",
              "      <td>0</td>\n",
              "      <td>23</td>\n",
              "    </tr>\n",
              "    <tr>\n",
              "      <th>2392425</th>\n",
              "      <td>2022-01-31 23:26:41</td>\n",
              "      <td>0</td>\n",
              "      <td>23</td>\n",
              "    </tr>\n",
              "    <tr>\n",
              "      <th>2392426</th>\n",
              "      <td>2022-01-31 23:37:41</td>\n",
              "      <td>0</td>\n",
              "      <td>23</td>\n",
              "    </tr>\n",
              "    <tr>\n",
              "      <th>2392427</th>\n",
              "      <td>2022-01-31 23:43:22</td>\n",
              "      <td>0</td>\n",
              "      <td>23</td>\n",
              "    </tr>\n",
              "  </tbody>\n",
              "</table>\n",
              "<p>2392428 rows × 3 columns</p>\n",
              "</div>\n",
              "    <div class=\"colab-df-buttons\">\n",
              "\n",
              "  <div class=\"colab-df-container\">\n",
              "    <button class=\"colab-df-convert\" onclick=\"convertToInteractive('df-42ecb2d5-f423-4c82-b6b7-db2edc990c0f')\"\n",
              "            title=\"Convert this dataframe to an interactive table.\"\n",
              "            style=\"display:none;\">\n",
              "\n",
              "  <svg xmlns=\"http://www.w3.org/2000/svg\" height=\"24px\" viewBox=\"0 -960 960 960\">\n",
              "    <path d=\"M120-120v-720h720v720H120Zm60-500h600v-160H180v160Zm220 220h160v-160H400v160Zm0 220h160v-160H400v160ZM180-400h160v-160H180v160Zm440 0h160v-160H620v160ZM180-180h160v-160H180v160Zm440 0h160v-160H620v160Z\"/>\n",
              "  </svg>\n",
              "    </button>\n",
              "\n",
              "  <style>\n",
              "    .colab-df-container {\n",
              "      display:flex;\n",
              "      gap: 12px;\n",
              "    }\n",
              "\n",
              "    .colab-df-convert {\n",
              "      background-color: #E8F0FE;\n",
              "      border: none;\n",
              "      border-radius: 50%;\n",
              "      cursor: pointer;\n",
              "      display: none;\n",
              "      fill: #1967D2;\n",
              "      height: 32px;\n",
              "      padding: 0 0 0 0;\n",
              "      width: 32px;\n",
              "    }\n",
              "\n",
              "    .colab-df-convert:hover {\n",
              "      background-color: #E2EBFA;\n",
              "      box-shadow: 0px 1px 2px rgba(60, 64, 67, 0.3), 0px 1px 3px 1px rgba(60, 64, 67, 0.15);\n",
              "      fill: #174EA6;\n",
              "    }\n",
              "\n",
              "    .colab-df-buttons div {\n",
              "      margin-bottom: 4px;\n",
              "    }\n",
              "\n",
              "    [theme=dark] .colab-df-convert {\n",
              "      background-color: #3B4455;\n",
              "      fill: #D2E3FC;\n",
              "    }\n",
              "\n",
              "    [theme=dark] .colab-df-convert:hover {\n",
              "      background-color: #434B5C;\n",
              "      box-shadow: 0px 1px 3px 1px rgba(0, 0, 0, 0.15);\n",
              "      filter: drop-shadow(0px 1px 2px rgba(0, 0, 0, 0.3));\n",
              "      fill: #FFFFFF;\n",
              "    }\n",
              "  </style>\n",
              "\n",
              "    <script>\n",
              "      const buttonEl =\n",
              "        document.querySelector('#df-42ecb2d5-f423-4c82-b6b7-db2edc990c0f button.colab-df-convert');\n",
              "      buttonEl.style.display =\n",
              "        google.colab.kernel.accessAllowed ? 'block' : 'none';\n",
              "\n",
              "      async function convertToInteractive(key) {\n",
              "        const element = document.querySelector('#df-42ecb2d5-f423-4c82-b6b7-db2edc990c0f');\n",
              "        const dataTable =\n",
              "          await google.colab.kernel.invokeFunction('convertToInteractive',\n",
              "                                                    [key], {});\n",
              "        if (!dataTable) return;\n",
              "\n",
              "        const docLinkHtml = 'Like what you see? Visit the ' +\n",
              "          '<a target=\"_blank\" href=https://colab.research.google.com/notebooks/data_table.ipynb>data table notebook</a>'\n",
              "          + ' to learn more about interactive tables.';\n",
              "        element.innerHTML = '';\n",
              "        dataTable['output_type'] = 'display_data';\n",
              "        await google.colab.output.renderOutput(dataTable, element);\n",
              "        const docLink = document.createElement('div');\n",
              "        docLink.innerHTML = docLinkHtml;\n",
              "        element.appendChild(docLink);\n",
              "      }\n",
              "    </script>\n",
              "  </div>\n",
              "\n",
              "\n",
              "    <div id=\"df-1d73ffde-6be7-45e0-9e36-b111890b923c\">\n",
              "      <button class=\"colab-df-quickchart\" onclick=\"quickchart('df-1d73ffde-6be7-45e0-9e36-b111890b923c')\"\n",
              "                title=\"Suggest charts\"\n",
              "                style=\"display:none;\">\n",
              "\n",
              "<svg xmlns=\"http://www.w3.org/2000/svg\" height=\"24px\"viewBox=\"0 0 24 24\"\n",
              "     width=\"24px\">\n",
              "    <g>\n",
              "        <path d=\"M19 3H5c-1.1 0-2 .9-2 2v14c0 1.1.9 2 2 2h14c1.1 0 2-.9 2-2V5c0-1.1-.9-2-2-2zM9 17H7v-7h2v7zm4 0h-2V7h2v10zm4 0h-2v-4h2v4z\"/>\n",
              "    </g>\n",
              "</svg>\n",
              "      </button>\n",
              "\n",
              "<style>\n",
              "  .colab-df-quickchart {\n",
              "      --bg-color: #E8F0FE;\n",
              "      --fill-color: #1967D2;\n",
              "      --hover-bg-color: #E2EBFA;\n",
              "      --hover-fill-color: #174EA6;\n",
              "      --disabled-fill-color: #AAA;\n",
              "      --disabled-bg-color: #DDD;\n",
              "  }\n",
              "\n",
              "  [theme=dark] .colab-df-quickchart {\n",
              "      --bg-color: #3B4455;\n",
              "      --fill-color: #D2E3FC;\n",
              "      --hover-bg-color: #434B5C;\n",
              "      --hover-fill-color: #FFFFFF;\n",
              "      --disabled-bg-color: #3B4455;\n",
              "      --disabled-fill-color: #666;\n",
              "  }\n",
              "\n",
              "  .colab-df-quickchart {\n",
              "    background-color: var(--bg-color);\n",
              "    border: none;\n",
              "    border-radius: 50%;\n",
              "    cursor: pointer;\n",
              "    display: none;\n",
              "    fill: var(--fill-color);\n",
              "    height: 32px;\n",
              "    padding: 0;\n",
              "    width: 32px;\n",
              "  }\n",
              "\n",
              "  .colab-df-quickchart:hover {\n",
              "    background-color: var(--hover-bg-color);\n",
              "    box-shadow: 0 1px 2px rgba(60, 64, 67, 0.3), 0 1px 3px 1px rgba(60, 64, 67, 0.15);\n",
              "    fill: var(--button-hover-fill-color);\n",
              "  }\n",
              "\n",
              "  .colab-df-quickchart-complete:disabled,\n",
              "  .colab-df-quickchart-complete:disabled:hover {\n",
              "    background-color: var(--disabled-bg-color);\n",
              "    fill: var(--disabled-fill-color);\n",
              "    box-shadow: none;\n",
              "  }\n",
              "\n",
              "  .colab-df-spinner {\n",
              "    border: 2px solid var(--fill-color);\n",
              "    border-color: transparent;\n",
              "    border-bottom-color: var(--fill-color);\n",
              "    animation:\n",
              "      spin 1s steps(1) infinite;\n",
              "  }\n",
              "\n",
              "  @keyframes spin {\n",
              "    0% {\n",
              "      border-color: transparent;\n",
              "      border-bottom-color: var(--fill-color);\n",
              "      border-left-color: var(--fill-color);\n",
              "    }\n",
              "    20% {\n",
              "      border-color: transparent;\n",
              "      border-left-color: var(--fill-color);\n",
              "      border-top-color: var(--fill-color);\n",
              "    }\n",
              "    30% {\n",
              "      border-color: transparent;\n",
              "      border-left-color: var(--fill-color);\n",
              "      border-top-color: var(--fill-color);\n",
              "      border-right-color: var(--fill-color);\n",
              "    }\n",
              "    40% {\n",
              "      border-color: transparent;\n",
              "      border-right-color: var(--fill-color);\n",
              "      border-top-color: var(--fill-color);\n",
              "    }\n",
              "    60% {\n",
              "      border-color: transparent;\n",
              "      border-right-color: var(--fill-color);\n",
              "    }\n",
              "    80% {\n",
              "      border-color: transparent;\n",
              "      border-right-color: var(--fill-color);\n",
              "      border-bottom-color: var(--fill-color);\n",
              "    }\n",
              "    90% {\n",
              "      border-color: transparent;\n",
              "      border-bottom-color: var(--fill-color);\n",
              "    }\n",
              "  }\n",
              "</style>\n",
              "\n",
              "      <script>\n",
              "        async function quickchart(key) {\n",
              "          const quickchartButtonEl =\n",
              "            document.querySelector('#' + key + ' button');\n",
              "          quickchartButtonEl.disabled = true;  // To prevent multiple clicks.\n",
              "          quickchartButtonEl.classList.add('colab-df-spinner');\n",
              "          try {\n",
              "            const charts = await google.colab.kernel.invokeFunction(\n",
              "                'suggestCharts', [key], {});\n",
              "          } catch (error) {\n",
              "            console.error('Error during call to suggestCharts:', error);\n",
              "          }\n",
              "          quickchartButtonEl.classList.remove('colab-df-spinner');\n",
              "          quickchartButtonEl.classList.add('colab-df-quickchart-complete');\n",
              "        }\n",
              "        (() => {\n",
              "          let quickchartButtonEl =\n",
              "            document.querySelector('#df-1d73ffde-6be7-45e0-9e36-b111890b923c button');\n",
              "          quickchartButtonEl.style.display =\n",
              "            google.colab.kernel.accessAllowed ? 'block' : 'none';\n",
              "        })();\n",
              "      </script>\n",
              "    </div>\n",
              "\n",
              "    </div>\n",
              "  </div>\n"
            ],
            "application/vnd.google.colaboratory.intrinsic+json": {
              "type": "dataframe"
            }
          },
          "metadata": {},
          "execution_count": 194
        }
      ]
    },
    {
      "cell_type": "code",
      "source": [],
      "metadata": {
        "id": "e1Pq0ZS5Sukx"
      },
      "execution_count": 194,
      "outputs": []
    },
    {
      "cell_type": "markdown",
      "source": [
        "**3. Use the Seaborn library to create a line plot depicting the number of trips as a function of the hour of day. What's the busiest time of day?**"
      ],
      "metadata": {
        "id": "u1LOpMO8TNtF"
      }
    },
    {
      "cell_type": "code",
      "source": [
        "df_filter['pickup_hour'].head() #since we want the hours, we should go to the hours column"
      ],
      "metadata": {
        "colab": {
          "base_uri": "https://localhost:8080/",
          "height": 241
        },
        "id": "w-ApwoOTTbQw",
        "outputId": "1bb206fe-28ff-43df-a245-ba7ad988e83c"
      },
      "execution_count": 195,
      "outputs": [
        {
          "output_type": "execute_result",
          "data": {
            "text/plain": [
              "0    0\n",
              "1    0\n",
              "2    0\n",
              "3    0\n",
              "4    0\n",
              "Name: pickup_hour, dtype: int32"
            ],
            "text/html": [
              "<div>\n",
              "<style scoped>\n",
              "    .dataframe tbody tr th:only-of-type {\n",
              "        vertical-align: middle;\n",
              "    }\n",
              "\n",
              "    .dataframe tbody tr th {\n",
              "        vertical-align: top;\n",
              "    }\n",
              "\n",
              "    .dataframe thead th {\n",
              "        text-align: right;\n",
              "    }\n",
              "</style>\n",
              "<table border=\"1\" class=\"dataframe\">\n",
              "  <thead>\n",
              "    <tr style=\"text-align: right;\">\n",
              "      <th></th>\n",
              "      <th>pickup_hour</th>\n",
              "    </tr>\n",
              "  </thead>\n",
              "  <tbody>\n",
              "    <tr>\n",
              "      <th>0</th>\n",
              "      <td>0</td>\n",
              "    </tr>\n",
              "    <tr>\n",
              "      <th>1</th>\n",
              "      <td>0</td>\n",
              "    </tr>\n",
              "    <tr>\n",
              "      <th>2</th>\n",
              "      <td>0</td>\n",
              "    </tr>\n",
              "    <tr>\n",
              "      <th>3</th>\n",
              "      <td>0</td>\n",
              "    </tr>\n",
              "    <tr>\n",
              "      <th>4</th>\n",
              "      <td>0</td>\n",
              "    </tr>\n",
              "  </tbody>\n",
              "</table>\n",
              "</div><br><label><b>dtype:</b> int32</label>"
            ]
          },
          "metadata": {},
          "execution_count": 195
        }
      ]
    },
    {
      "cell_type": "code",
      "source": [
        "print(df_filter['pickup_hour'].value_counts())\n",
        "print(df_filter['pickup_hour'].value_counts().values)\n",
        "#.value_counts() method is a series that counts the number of unique times a value appears. Extract their values which will be our y coordinate. The x coordinate is the time i.e. this column's index which we use the .index attribute"
      ],
      "metadata": {
        "colab": {
          "base_uri": "https://localhost:8080/"
        },
        "id": "i3MeFs0OWSgE",
        "outputId": "37bbe742-925a-4fc1-c62c-9e00e7298a23"
      },
      "execution_count": 196,
      "outputs": [
        {
          "output_type": "stream",
          "name": "stdout",
          "text": [
            "pickup_hour\n",
            "18    172507\n",
            "17    172256\n",
            "15    170569\n",
            "16    164751\n",
            "14    160138\n",
            "19    147191\n",
            "13    144455\n",
            "12    138788\n",
            "11    126574\n",
            "10    117011\n",
            "20    115050\n",
            "21    106821\n",
            "9     106285\n",
            "22    101478\n",
            "8      97312\n",
            "23     77199\n",
            "7      70223\n",
            "0      57535\n",
            "1      40334\n",
            "6      34149\n",
            "2      27789\n",
            "3      18439\n",
            "5      13608\n",
            "4      11966\n",
            "Name: count, dtype: int64\n",
            "[172507 172256 170569 164751 160138 147191 144455 138788 126574 117011\n",
            " 115050 106821 106285 101478  97312  77199  70223  57535  40334  34149\n",
            "  27789  18439  13608  11966]\n"
          ]
        }
      ]
    },
    {
      "cell_type": "code",
      "source": [
        "df_filter['pickup_hour'].value_counts().index #0-23 as expected"
      ],
      "metadata": {
        "colab": {
          "base_uri": "https://localhost:8080/"
        },
        "id": "IyWcvvSXYmmw",
        "outputId": "9927cbb9-6294-49b3-d415-e8663f438c68"
      },
      "execution_count": 197,
      "outputs": [
        {
          "output_type": "execute_result",
          "data": {
            "text/plain": [
              "Index([18, 17, 15, 16, 14, 19, 13, 12, 11, 10, 20, 21,  9, 22,  8, 23,  7,  0,\n",
              "        1,  6,  2,  3,  5,  4],\n",
              "      dtype='int32', name='pickup_hour')"
            ]
          },
          "metadata": {},
          "execution_count": 197
        }
      ]
    },
    {
      "cell_type": "markdown",
      "source": [
        "We are ready to plot these two arrays df_filter['pickup_hour'].value_counts().index and df_filter['pickup_hour'].value_counts().values"
      ],
      "metadata": {
        "id": "WtOXMcpzY3uX"
      }
    },
    {
      "cell_type": "code",
      "source": [
        "counts_by_hour = df_filter['pickup_hour'].value_counts()\n",
        "plt.figure(figsize=(12, 6)) #I decided to stretch it out for more room and also looks better\n",
        "sns.lineplot(x=counts_by_hour.index, y=counts_by_hour.values, marker='o', color = 'forestgreen')\n",
        "plt.title('Number of NYC taxi trips by hour of day in January 2022')\n",
        "plt.xlabel('Hour of day')\n",
        "plt.ylabel('Number of trips')\n",
        "plt.xticks(range(24)) #since we have data for every hour, it is more visually appealing to have this\n",
        "plt.grid(True)\n",
        "plt.show()"
      ],
      "metadata": {
        "colab": {
          "base_uri": "https://localhost:8080/",
          "height": 564
        },
        "id": "Ik1hO3A1TQGA",
        "outputId": "3eb9e20a-70a2-4a41-e60e-f8490362689e"
      },
      "execution_count": 198,
      "outputs": [
        {
          "output_type": "display_data",
          "data": {
            "text/plain": [
              "<Figure size 1200x600 with 1 Axes>"
            ],
            "image/png": "[encoded data removed]"
          },
          "metadata": {}
        }
      ]
    },
    {
      "cell_type": "markdown",
      "source": [
        "From looking at the graph and data, we see that **18:00** or 6:00 pm which makes sense since this is typically dinner time. We can also find the max value's index with the .idxmax() method"
      ],
      "metadata": {
        "id": "g0yg7C0DTwpK"
      }
    },
    {
      "cell_type": "code",
      "source": [
        "print(f\"Busiest hour of the day is: {counts_by_hour.idxmax()}:00 which has this number of trips: {counts_by_hour.max()}\")"
      ],
      "metadata": {
        "colab": {
          "base_uri": "https://localhost:8080/"
        },
        "id": "sWXBZs6lZVnO",
        "outputId": "cbfaa55f-f4e6-43e2-d89e-921d560d6ade"
      },
      "execution_count": 199,
      "outputs": [
        {
          "output_type": "stream",
          "name": "stdout",
          "text": [
            "Busiest hour of the day is: 18:00 which has this number of trips: 172507\n"
          ]
        }
      ]
    },
    {
      "cell_type": "code",
      "source": [],
      "metadata": {
        "id": "oAoemiPSZh3k"
      },
      "execution_count": 199,
      "outputs": []
    },
    {
      "cell_type": "markdown",
      "source": [
        "**4. Create another lineplot depicting the number of trips as a function of the day of week. What day of the week is the least busy?**"
      ],
      "metadata": {
        "id": "UWaEyQkja25o"
      }
    },
    {
      "cell_type": "code",
      "source": [
        "print(df_filter['pickup_dayofweek'].value_counts().values)\n",
        "print(df_filter['pickup_dayofweek'].value_counts().index)"
      ],
      "metadata": {
        "colab": {
          "base_uri": "https://localhost:8080/"
        },
        "id": "NILzzSWncqBS",
        "outputId": "db5f82fb-53c2-46a5-9abb-84f28e4eae5c"
      },
      "execution_count": 200,
      "outputs": [
        {
          "output_type": "stream",
          "name": "stdout",
          "text": [
            "[363818 352417 350891 346565 331893 330436 316408]\n",
            "Index([0, 5, 4, 3, 6, 2, 1], dtype='int32', name='pickup_dayofweek')\n"
          ]
        }
      ]
    },
    {
      "cell_type": "code",
      "source": [
        "counts_by_week = df_filter['pickup_dayofweek'].value_counts()\n",
        "plt.figure(figsize=(12, 6))\n",
        "sns.lineplot(x=counts_by_week.index, y=counts_by_week.values, marker='o', color = 'black')\n",
        "plt.title('Number of NYC taxi trips by hour of day in January 2022')\n",
        "plt.xlabel('Day of the week')\n",
        "plt.ylabel('Number of trips')\n",
        "plt.grid(True)\n",
        "plt.show()\n",
        "print(f\"Least busy day of the week is: {counts_by_week.idxmin()} which has this number of trips: {counts_by_week.min()}\")"
      ],
      "metadata": {
        "colab": {
          "base_uri": "https://localhost:8080/",
          "height": 581
        },
        "id": "Zdm-IT9va7ZD",
        "outputId": "6b863c86-31cb-476a-d7ae-3e2776b0a322"
      },
      "execution_count": 201,
      "outputs": [
        {
          "output_type": "display_data",
          "data": {
            "text/plain": [
              "<Figure size 1200x600 with 1 Axes>"
            ],
            "image/png": "[encoded data removed]"
          },
          "metadata": {}
        },
        {
          "output_type": "stream",
          "name": "stdout",
          "text": [
            "Least busy day of the week is: 1 which has this number of trips: 316408\n"
          ]
        }
      ]
    },
    {
      "cell_type": "markdown",
      "source": [
        "We can clearly see the answer is **Tuesday** to be the least busiest day of the week. However, it would be nicer to reorganize the graph in the order ['Monday', 'Tuesday', 'Wednesday', 'Thursday', 'Friday', 'Saturday', 'Sunday'] <-> [0, 1, 2, 3, 4, 5, 6] as that is more natural. This is where the .reindex() method comes in handy as .value_counts() sorts by frequency in descending order, which can jumble the order of days as we see here"
      ],
      "metadata": {
        "id": "H8lp_UVJkd3-"
      }
    },
    {
      "cell_type": "markdown",
      "source": [],
      "metadata": {
        "id": "KdjuiaO9r9Vu"
      }
    },
    {
      "cell_type": "code",
      "source": [
        "counts_by_week = df_filter['pickup_dayofweek'].value_counts().reindex(['Monday', 'Tuesday', 'Wednesday', 'Thursday', 'Friday', 'Saturday', 'Sunday'])\n",
        "plt.figure(figsize=(12, 6))\n",
        "sns.lineplot(x=counts_by_week.index, y=counts_by_week.values, marker='o', color = 'black')\n",
        "plt.title('Number of NYC taxi trips by hour of day in January 2022')\n",
        "plt.xlabel('Day of the week')\n",
        "plt.ylabel('Number of trips')\n",
        "plt.grid(True)\n",
        "plt.show()\n",
        "print(f\"Least busy day of the week is: {counts_by_week.idxmin()} which has this number of trips: {counts_by_week.min()}\")"
      ],
      "metadata": {
        "colab": {
          "base_uri": "https://localhost:8080/",
          "height": 616
        },
        "id": "32T1zUijkx5p",
        "outputId": "3ffc48be-81be-4687-a9b3-e41d378aede8"
      },
      "execution_count": 202,
      "outputs": [
        {
          "output_type": "display_data",
          "data": {
            "text/plain": [
              "<Figure size 1200x600 with 1 Axes>"
            ],
            "image/png": "[encoded data removed]"
          },
          "metadata": {}
        },
        {
          "output_type": "stream",
          "name": "stdout",
          "text": [
            "Least busy day of the week is: nan which has this number of trips: nan\n"
          ]
        },
        {
          "output_type": "stream",
          "name": "stderr",
          "text": [
            "<ipython-input-202-dcde5d16d925>:9: FutureWarning: The behavior of Series.idxmin with all-NA values, or any-NA and skipna=False, is deprecated. In a future version this will raise ValueError\n",
            "  print(f\"Least busy day of the week is: {counts_by_week.idxmin()} which has this number of trips: {counts_by_week.min()}\")\n"
          ]
        }
      ]
    },
    {
      "cell_type": "markdown",
      "source": [
        "**Part 3**"
      ],
      "metadata": {
        "id": "c60OdThVnOat"
      }
    },
    {
      "cell_type": "markdown",
      "source": [
        "**1. Compute a correlation matrix between the variables 'trip_distance', 'fare_amount', 'tip_amount', 'total_amount', 'trip_duration' and use Seaborn to create a heatmap of the results. Which variables are strongly correlated?**"
      ],
      "metadata": {
        "id": "HNZkgovrnYv_"
      }
    },
    {
      "cell_type": "code",
      "source": [
        "correlation = df_filter[['trip_distance', 'fare_amount', 'tip_amount', 'total_amount', 'trip_duration_in_minutes']].corr()\n",
        "print(correlation)\n",
        "#correlation matrix corr(x, y) = cov(x, y)/ (\\sigma_x * \\sigma_y) = ( E(x*y)- E(x)*E(y) ) / (\\sigma_x * \\sigma_y)\n",
        "#.corr() goes through all possible combinations"
      ],
      "metadata": {
        "colab": {
          "base_uri": "https://localhost:8080/"
        },
        "id": "QxYJDWb0ncee",
        "outputId": "3a6660fa-19fa-442c-83b2-16800fdd558c"
      },
      "execution_count": 203,
      "outputs": [
        {
          "output_type": "stream",
          "name": "stdout",
          "text": [
            "                          trip_distance  fare_amount  tip_amount  \\\n",
            "trip_distance                  1.000000     0.039426    0.491978   \n",
            "fare_amount                    0.039426     1.000000    0.024196   \n",
            "tip_amount                     0.491978     0.024196    1.000000   \n",
            "total_amount                   0.048724     0.999878    0.038133   \n",
            "trip_duration_in_minutes       0.165854     0.008134    0.086206   \n",
            "\n",
            "                          total_amount  trip_duration_in_minutes  \n",
            "trip_distance                 0.048724                  0.165854  \n",
            "fare_amount                   0.999878                  0.008134  \n",
            "tip_amount                    0.038133                  0.086206  \n",
            "total_amount                  1.000000                  0.009720  \n",
            "trip_duration_in_minutes      0.009720                  1.000000  \n"
          ]
        }
      ]
    },
    {
      "cell_type": "code",
      "source": [
        "sns.heatmap(correlation, annot=True, cmap='coolwarm')\n",
        "plt.title('Correlation Matrix of Jan 2022 NYC Taxis')\n",
        "plt.show()"
      ],
      "metadata": {
        "colab": {
          "base_uri": "https://localhost:8080/",
          "height": 610
        },
        "id": "qh8Qfy3xoyMN",
        "outputId": "c4df7b26-c1b6-4d54-a81e-1b3552cbbe9a"
      },
      "execution_count": 204,
      "outputs": [
        {
          "output_type": "display_data",
          "data": {
            "text/plain": [
              "<Figure size 640x480 with 2 Axes>"
            ],
            "image/png": "[encoded data removed]"
          },
          "metadata": {}
        }
      ]
    },
    {
      "cell_type": "markdown",
      "source": [
        "As seen from the heat map, or in the previous cell by just looking the correlation matrix directly with just .corr(), we see that the strongest correlation is **'fare_amount'** and **'total_amount'** by the bright red. A correlation of 1 indicates a *perfect*, positive linear relationship between two variables. Second largest that are not self-correlated goes to 'tip_amount' and 'trip_distance' with correlation of 0.49"
      ],
      "metadata": {
        "id": "CJps0h1TpwtY"
      }
    },
    {
      "cell_type": "markdown",
      "source": [
        "**Part 4**"
      ],
      "metadata": {
        "id": "_xgG40U0r_Hg"
      }
    },
    {
      "cell_type": "markdown",
      "source": [
        "**1. Create a pairplot matrix using Seaborn to observation the relationship between the following variables: trip_distance, fare_amount, tip_amount, total_amount, trip_duration. Note, pairplots can be memory intensive. Try sampling the dataset using the sample method in Pandas. Which variables appear to have a strong relationship? Which variables seem to have no relationship?**"
      ],
      "metadata": {
        "id": "5CaRGq-ssDLa"
      }
    },
    {
      "cell_type": "code",
      "source": [
        "sns.pairplot(df_filter[['trip_distance', 'fare_amount', 'tip_amount', 'total_amount', 'trip_duration_in_minutes']].sample(1000))\n",
        "plt.show()"
      ],
      "metadata": {
        "colab": {
          "base_uri": "https://localhost:8080/",
          "height": 1000
        },
        "id": "U6SbPp1psFZs",
        "outputId": "2d30bed8-d1c9-4732-e9bb-9f2c27fb5875"
      },
      "execution_count": 205,
      "outputs": [
        {
          "output_type": "display_data",
          "data": {
            "text/plain": [
              "<Figure size 1250x1250 with 30 Axes>"
            ],
            "image/png": "[encoded data removed]"
          },
          "metadata": {}
        }
      ]
    },
    {
      "cell_type": "markdown",
      "source": [
        "**'trip_distance' vs. 'fare_amount'** and **'total_amount' vs. 'fare_amount'** are examples with **strong **relationships or strong correlations. These relationships makes sense since the   longer trips cost more, and take more time.\n",
        "\n",
        "No relationships or **no** correlations are, for example, **'trip_duration_in_minutes' vs. 'tip_amount'** or **'trip_distance' vs. 'fare_amount'** or **'fare_amount' vs. 'tip_amount'**\n"
      ],
      "metadata": {
        "id": "_KOwcFeBtr2h"
      }
    },
    {
      "cell_type": "code",
      "source": [
        "cols = ['trip_distance','fare_amount','tip_amount','total_amount', 'trip_duration_in_minutes']\n",
        "df_filter[cols].corr()\n"
      ],
      "metadata": {
        "colab": {
          "base_uri": "https://localhost:8080/",
          "height": 206
        },
        "id": "9pH_N7QRu33t",
        "outputId": "23a8ecd1-6dd9-481a-dbd0-0b1f7bc9d292"
      },
      "execution_count": 206,
      "outputs": [
        {
          "output_type": "execute_result",
          "data": {
            "text/plain": [
              "                          trip_distance  fare_amount  tip_amount  \\\n",
              "trip_distance                  1.000000     0.039426    0.491978   \n",
              "fare_amount                    0.039426     1.000000    0.024196   \n",
              "tip_amount                     0.491978     0.024196    1.000000   \n",
              "total_amount                   0.048724     0.999878    0.038133   \n",
              "trip_duration_in_minutes       0.165854     0.008134    0.086206   \n",
              "\n",
              "                          total_amount  trip_duration_in_minutes  \n",
              "trip_distance                 0.048724                  0.165854  \n",
              "fare_amount                   0.999878                  0.008134  \n",
              "tip_amount                    0.038133                  0.086206  \n",
              "total_amount                  1.000000                  0.009720  \n",
              "trip_duration_in_minutes      0.009720                  1.000000  "
            ],
            "text/html": [
              "\n",
              "  <div id=\"df-7b548606-95f8-42f1-a77b-a65c662e7df2\" class=\"colab-df-container\">\n",
              "    <div>\n",
              "<style scoped>\n",
              "    .dataframe tbody tr th:only-of-type {\n",
              "        vertical-align: middle;\n",
              "    }\n",
              "\n",
              "    .dataframe tbody tr th {\n",
              "        vertical-align: top;\n",
              "    }\n",
              "\n",
              "    .dataframe thead th {\n",
              "        text-align: right;\n",
              "    }\n",
              "</style>\n",
              "<table border=\"1\" class=\"dataframe\">\n",
              "  <thead>\n",
              "    <tr style=\"text-align: right;\">\n",
              "      <th></th>\n",
              "      <th>trip_distance</th>\n",
              "      <th>fare_amount</th>\n",
              "      <th>tip_amount</th>\n",
              "      <th>total_amount</th>\n",
              "      <th>trip_duration_in_minutes</th>\n",
              "    </tr>\n",
              "  </thead>\n",
              "  <tbody>\n",
              "    <tr>\n",
              "      <th>trip_distance</th>\n",
              "      <td>1.000000</td>\n",
              "      <td>0.039426</td>\n",
              "      <td>0.491978</td>\n",
              "      <td>0.048724</td>\n",
              "      <td>0.165854</td>\n",
              "    </tr>\n",
              "    <tr>\n",
              "      <th>fare_amount</th>\n",
              "      <td>0.039426</td>\n",
              "      <td>1.000000</td>\n",
              "      <td>0.024196</td>\n",
              "      <td>0.999878</td>\n",
              "      <td>0.008134</td>\n",
              "    </tr>\n",
              "    <tr>\n",
              "      <th>tip_amount</th>\n",
              "      <td>0.491978</td>\n",
              "      <td>0.024196</td>\n",
              "      <td>1.000000</td>\n",
              "      <td>0.038133</td>\n",
              "      <td>0.086206</td>\n",
              "    </tr>\n",
              "    <tr>\n",
              "      <th>total_amount</th>\n",
              "      <td>0.048724</td>\n",
              "      <td>0.999878</td>\n",
              "      <td>0.038133</td>\n",
              "      <td>1.000000</td>\n",
              "      <td>0.009720</td>\n",
              "    </tr>\n",
              "    <tr>\n",
              "      <th>trip_duration_in_minutes</th>\n",
              "      <td>0.165854</td>\n",
              "      <td>0.008134</td>\n",
              "      <td>0.086206</td>\n",
              "      <td>0.009720</td>\n",
              "      <td>1.000000</td>\n",
              "    </tr>\n",
              "  </tbody>\n",
              "</table>\n",
              "</div>\n",
              "    <div class=\"colab-df-buttons\">\n",
              "\n",
              "  <div class=\"colab-df-container\">\n",
              "    <button class=\"colab-df-convert\" onclick=\"convertToInteractive('df-7b548606-95f8-42f1-a77b-a65c662e7df2')\"\n",
              "            title=\"Convert this dataframe to an interactive table.\"\n",
              "            style=\"display:none;\">\n",
              "\n",
              "  <svg xmlns=\"http://www.w3.org/2000/svg\" height=\"24px\" viewBox=\"0 -960 960 960\">\n",
              "    <path d=\"M120-120v-720h720v720H120Zm60-500h600v-160H180v160Zm220 220h160v-160H400v160Zm0 220h160v-160H400v160ZM180-400h160v-160H180v160Zm440 0h160v-160H620v160ZM180-180h160v-160H180v160Zm440 0h160v-160H620v160Z\"/>\n",
              "  </svg>\n",
              "    </button>\n",
              "\n",
              "  <style>\n",
              "    .colab-df-container {\n",
              "      display:flex;\n",
              "      gap: 12px;\n",
              "    }\n",
              "\n",
              "    .colab-df-convert {\n",
              "      background-color: #E8F0FE;\n",
              "      border: none;\n",
              "      border-radius: 50%;\n",
              "      cursor: pointer;\n",
              "      display: none;\n",
              "      fill: #1967D2;\n",
              "      height: 32px;\n",
              "      padding: 0 0 0 0;\n",
              "      width: 32px;\n",
              "    }\n",
              "\n",
              "    .colab-df-convert:hover {\n",
              "      background-color: #E2EBFA;\n",
              "      box-shadow: 0px 1px 2px rgba(60, 64, 67, 0.3), 0px 1px 3px 1px rgba(60, 64, 67, 0.15);\n",
              "      fill: #174EA6;\n",
              "    }\n",
              "\n",
              "    .colab-df-buttons div {\n",
              "      margin-bottom: 4px;\n",
              "    }\n",
              "\n",
              "    [theme=dark] .colab-df-convert {\n",
              "      background-color: #3B4455;\n",
              "      fill: #D2E3FC;\n",
              "    }\n",
              "\n",
              "    [theme=dark] .colab-df-convert:hover {\n",
              "      background-color: #434B5C;\n",
              "      box-shadow: 0px 1px 3px 1px rgba(0, 0, 0, 0.15);\n",
              "      filter: drop-shadow(0px 1px 2px rgba(0, 0, 0, 0.3));\n",
              "      fill: #FFFFFF;\n",
              "    }\n",
              "  </style>\n",
              "\n",
              "    <script>\n",
              "      const buttonEl =\n",
              "        document.querySelector('#df-7b548606-95f8-42f1-a77b-a65c662e7df2 button.colab-df-convert');\n",
              "      buttonEl.style.display =\n",
              "        google.colab.kernel.accessAllowed ? 'block' : 'none';\n",
              "\n",
              "      async function convertToInteractive(key) {\n",
              "        const element = document.querySelector('#df-7b548606-95f8-42f1-a77b-a65c662e7df2');\n",
              "        const dataTable =\n",
              "          await google.colab.kernel.invokeFunction('convertToInteractive',\n",
              "                                                    [key], {});\n",
              "        if (!dataTable) return;\n",
              "\n",
              "        const docLinkHtml = 'Like what you see? Visit the ' +\n",
              "          '<a target=\"_blank\" href=https://colab.research.google.com/notebooks/data_table.ipynb>data table notebook</a>'\n",
              "          + ' to learn more about interactive tables.';\n",
              "        element.innerHTML = '';\n",
              "        dataTable['output_type'] = 'display_data';\n",
              "        await google.colab.output.renderOutput(dataTable, element);\n",
              "        const docLink = document.createElement('div');\n",
              "        docLink.innerHTML = docLinkHtml;\n",
              "        element.appendChild(docLink);\n",
              "      }\n",
              "    </script>\n",
              "  </div>\n",
              "\n",
              "\n",
              "    <div id=\"df-3e589135-6982-478d-8d71-736172c9eefc\">\n",
              "      <button class=\"colab-df-quickchart\" onclick=\"quickchart('df-3e589135-6982-478d-8d71-736172c9eefc')\"\n",
              "                title=\"Suggest charts\"\n",
              "                style=\"display:none;\">\n",
              "\n",
              "<svg xmlns=\"http://www.w3.org/2000/svg\" height=\"24px\"viewBox=\"0 0 24 24\"\n",
              "     width=\"24px\">\n",
              "    <g>\n",
              "        <path d=\"M19 3H5c-1.1 0-2 .9-2 2v14c0 1.1.9 2 2 2h14c1.1 0 2-.9 2-2V5c0-1.1-.9-2-2-2zM9 17H7v-7h2v7zm4 0h-2V7h2v10zm4 0h-2v-4h2v4z\"/>\n",
              "    </g>\n",
              "</svg>\n",
              "      </button>\n",
              "\n",
              "<style>\n",
              "  .colab-df-quickchart {\n",
              "      --bg-color: #E8F0FE;\n",
              "      --fill-color: #1967D2;\n",
              "      --hover-bg-color: #E2EBFA;\n",
              "      --hover-fill-color: #174EA6;\n",
              "      --disabled-fill-color: #AAA;\n",
              "      --disabled-bg-color: #DDD;\n",
              "  }\n",
              "\n",
              "  [theme=dark] .colab-df-quickchart {\n",
              "      --bg-color: #3B4455;\n",
              "      --fill-color: #D2E3FC;\n",
              "      --hover-bg-color: #434B5C;\n",
              "      --hover-fill-color: #FFFFFF;\n",
              "      --disabled-bg-color: #3B4455;\n",
              "      --disabled-fill-color: #666;\n",
              "  }\n",
              "\n",
              "  .colab-df-quickchart {\n",
              "    background-color: var(--bg-color);\n",
              "    border: none;\n",
              "    border-radius: 50%;\n",
              "    cursor: pointer;\n",
              "    display: none;\n",
              "    fill: var(--fill-color);\n",
              "    height: 32px;\n",
              "    padding: 0;\n",
              "    width: 32px;\n",
              "  }\n",
              "\n",
              "  .colab-df-quickchart:hover {\n",
              "    background-color: var(--hover-bg-color);\n",
              "    box-shadow: 0 1px 2px rgba(60, 64, 67, 0.3), 0 1px 3px 1px rgba(60, 64, 67, 0.15);\n",
              "    fill: var(--button-hover-fill-color);\n",
              "  }\n",
              "\n",
              "  .colab-df-quickchart-complete:disabled,\n",
              "  .colab-df-quickchart-complete:disabled:hover {\n",
              "    background-color: var(--disabled-bg-color);\n",
              "    fill: var(--disabled-fill-color);\n",
              "    box-shadow: none;\n",
              "  }\n",
              "\n",
              "  .colab-df-spinner {\n",
              "    border: 2px solid var(--fill-color);\n",
              "    border-color: transparent;\n",
              "    border-bottom-color: var(--fill-color);\n",
              "    animation:\n",
              "      spin 1s steps(1) infinite;\n",
              "  }\n",
              "\n",
              "  @keyframes spin {\n",
              "    0% {\n",
              "      border-color: transparent;\n",
              "      border-bottom-color: var(--fill-color);\n",
              "      border-left-color: var(--fill-color);\n",
              "    }\n",
              "    20% {\n",
              "      border-color: transparent;\n",
              "      border-left-color: var(--fill-color);\n",
              "      border-top-color: var(--fill-color);\n",
              "    }\n",
              "    30% {\n",
              "      border-color: transparent;\n",
              "      border-left-color: var(--fill-color);\n",
              "      border-top-color: var(--fill-color);\n",
              "      border-right-color: var(--fill-color);\n",
              "    }\n",
              "    40% {\n",
              "      border-color: transparent;\n",
              "      border-right-color: var(--fill-color);\n",
              "      border-top-color: var(--fill-color);\n",
              "    }\n",
              "    60% {\n",
              "      border-color: transparent;\n",
              "      border-right-color: var(--fill-color);\n",
              "    }\n",
              "    80% {\n",
              "      border-color: transparent;\n",
              "      border-right-color: var(--fill-color);\n",
              "      border-bottom-color: var(--fill-color);\n",
              "    }\n",
              "    90% {\n",
              "      border-color: transparent;\n",
              "      border-bottom-color: var(--fill-color);\n",
              "    }\n",
              "  }\n",
              "</style>\n",
              "\n",
              "      <script>\n",
              "        async function quickchart(key) {\n",
              "          const quickchartButtonEl =\n",
              "            document.querySelector('#' + key + ' button');\n",
              "          quickchartButtonEl.disabled = true;  // To prevent multiple clicks.\n",
              "          quickchartButtonEl.classList.add('colab-df-spinner');\n",
              "          try {\n",
              "            const charts = await google.colab.kernel.invokeFunction(\n",
              "                'suggestCharts', [key], {});\n",
              "          } catch (error) {\n",
              "            console.error('Error during call to suggestCharts:', error);\n",
              "          }\n",
              "          quickchartButtonEl.classList.remove('colab-df-spinner');\n",
              "          quickchartButtonEl.classList.add('colab-df-quickchart-complete');\n",
              "        }\n",
              "        (() => {\n",
              "          let quickchartButtonEl =\n",
              "            document.querySelector('#df-3e589135-6982-478d-8d71-736172c9eefc button');\n",
              "          quickchartButtonEl.style.display =\n",
              "            google.colab.kernel.accessAllowed ? 'block' : 'none';\n",
              "        })();\n",
              "      </script>\n",
              "    </div>\n",
              "\n",
              "    </div>\n",
              "  </div>\n"
            ],
            "application/vnd.google.colaboratory.intrinsic+json": {
              "type": "dataframe",
              "summary": "{\n  \"name\": \"df_filter[cols]\",\n  \"rows\": 5,\n  \"fields\": [\n    {\n      \"column\": \"trip_distance\",\n      \"properties\": {\n        \"dtype\": \"number\",\n        \"std\": 0.40736581098679664,\n        \"min\": 0.039425596406575183,\n        \"max\": 1.0,\n        \"num_unique_values\": 5,\n        \"samples\": [\n          0.039425596406575183,\n          0.16585428091154905,\n          0.49197775696865415\n        ],\n        \"semantic_type\": \"\",\n        \"description\": \"\"\n      }\n    },\n    {\n      \"column\": \"fare_amount\",\n      \"properties\": {\n        \"dtype\": \"number\",\n        \"std\": 0.5347029582394703,\n        \"min\": 0.008134194458284552,\n        \"max\": 1.0,\n        \"num_unique_values\": 5,\n        \"samples\": [\n          1.0,\n          0.008134194458284552,\n          0.024196034811305486\n        ],\n        \"semantic_type\": \"\",\n        \"description\": \"\"\n      }\n    },\n    {\n      \"column\": \"tip_amount\",\n      \"properties\": {\n        \"dtype\": \"number\",\n        \"std\": 0.42227259396494193,\n        \"min\": 0.024196034811305486,\n        \"max\": 1.0,\n        \"num_unique_values\": 5,\n        \"samples\": [\n          0.024196034811305486,\n          0.08620595597116126,\n          1.0\n        ],\n        \"semantic_type\": \"\",\n        \"description\": \"\"\n      }\n    },\n    {\n      \"column\": \"total_amount\",\n      \"properties\": {\n        \"dtype\": \"number\",\n        \"std\": 0.5302485053533655,\n        \"min\": 0.00971992958004044,\n        \"max\": 1.0,\n        \"num_unique_values\": 5,\n        \"samples\": [\n          0.9998782988475768,\n          0.00971992958004044,\n          0.038133283519691884\n        ],\n        \"semantic_type\": \"\",\n        \"description\": \"\"\n      }\n    },\n    {\n      \"column\": \"trip_duration_in_minutes\",\n      \"properties\": {\n        \"dtype\": \"number\",\n        \"std\": 0.4220673094061594,\n        \"min\": 0.008134194458284552,\n        \"max\": 1.0,\n        \"num_unique_values\": 5,\n        \"samples\": [\n          0.008134194458284552,\n          1.0,\n          0.08620595597116126\n        ],\n        \"semantic_type\": \"\",\n        \"description\": \"\"\n      }\n    }\n  ]\n}"
            }
          },
          "metadata": {},
          "execution_count": 206
        }
      ]
    },
    {
      "cell_type": "markdown",
      "source": [
        "**Part 5**"
      ],
      "metadata": {
        "id": "H0Ypuj4V0jdS"
      }
    },
    {
      "cell_type": "markdown",
      "source": [
        "**1. Use Seaborn to create a countplot for the variables PULocationID, and DOLocationID. Keep only the top 15 pick-up and drop-off locations. What's the most popular pick-up location?**"
      ],
      "metadata": {
        "id": "dL3GrJuL0nE_"
      }
    },
    {
      "cell_type": "code",
      "source": [],
      "metadata": {
        "id": "MFlGbUwR0pK5"
      },
      "execution_count": 206,
      "outputs": []
    }
  ]
}